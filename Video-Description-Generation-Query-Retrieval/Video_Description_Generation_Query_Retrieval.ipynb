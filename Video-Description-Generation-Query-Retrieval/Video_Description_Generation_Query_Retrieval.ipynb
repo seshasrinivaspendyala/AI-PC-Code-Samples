{
 "cells": [
  {
   "cell_type": "markdown",
   "id": "b584ead1-9a08-44eb-8c03-4ab98eb0f34a",
   "metadata": {},
   "source": [
    "# Video Description Generation and Query Retrieval"
   ]
  },
  {
   "cell_type": "markdown",
   "id": "a50c359d-093d-49f2-8a53-43ae428355d1",
   "metadata": {},
   "source": [
    "## Overview"
   ]
  },
  {
   "cell_type": "markdown",
   "id": "c84bdadd-ac84-4232-baf5-3394e51b6d3b",
   "metadata": {},
   "source": [
    "This notebook demonstrates how to generate video descriptions using the [**Qwen 2.5 Vision-Language model**](https://github.com/QwenLM/Qwen2.5-VL) and store their embeddings in [**ChromaDB**](https://www.trychroma.com/) for efficient semantic search on **Intel® Core™ Ultra Processors**. The Qwen 2.5 Vision-Language model is loaded using the [**PyTorch XPU backend**](https://docs.pytorch.org/docs/stable/notes/get_start_xpu.html) to leverage Intel hardware acceleration.\\\n",
    "For each video, a description is generated and stored as an embedding in ChromaDB. When a user submits a query, cosine similarity search is performed in ChromaDB to retrieve the most relevant video description. The matching video is then displayed inline.\\\n",
    "This sample supports sports-related queries and uses a subset of videos from the [**Sports Videos in the Wild (SVW)**](https://cvlab.cse.msu.edu/project-svw.html) dataset. For more information on the dataset and citation requirements, please refer to the [**Sports Videos in the Wild (SVW) dataset paper**](https://cvlab.cse.msu.edu/project-svw.html#:~:text=SVW%20Download,Bibtex%20%7C%20PDF)."
   ]
  },
  {
   "cell_type": "markdown",
   "id": "4066302a-a785-4a4d-882d-26cba0f73f6c",
   "metadata": {},
   "source": [
    "## Workflow"
   ]
  },
  {
   "cell_type": "markdown",
   "id": "087121d4-116e-4954-a84d-a8790774ec3c",
   "metadata": {},
   "source": [
    "- During the initial data load, a subset of videos from the [Sports Videos in the Wild (SVW)](https://cvlab.cse.msu.edu/project-svw.html) dataset is fed into the [Qwen 2.5 Vision-Language model](https://github.com/QwenLM/Qwen2.5-VL).\n",
    "- Here, the [Qwen2.5-VL-3B-Instruct](https://huggingface.co/Qwen/Qwen2.5-VL-3B-Instruct) model variant is used to process these videos and generate descriptions. The Qwen 2.5 Vision-Language model is loaded using the [PyTorch XPU backend](https://docs.pytorch.org/docs/stable/notes/get_start_xpu.html) to leverage Intel hardware acceleration.\n",
    "- Next, the generated video descriptions are converted into embeddings using [Sentence Transformers](https://sbert.net/), with the [all-MiniLM-L6-v2 model](https://huggingface.co/sentence-transformers/all-MiniLM-L6-v2).\n",
    "- These embeddings, along with the descriptions and video metadata, are stored in a persistent local [ChromaDB](https://www.trychroma.com/) collection. This is a one-time operation; since ChromaDB is local and persistent, it does not need to be repeated unless new videos are added.\n",
    "- When a user submits a query, the text is similarly encoded into an embedding, which is then used to perform a semantic search (via cosine similarity) over the ChromaDB collection.\n",
    "- The final result will be the most relevant video description and its associated video file name, and the video is displayed directly in the notebook."
   ]
  },
  {
   "cell_type": "markdown",
   "id": "441de362-5dd5-4fd4-8847-0461adb0d006",
   "metadata": {},
   "source": [
    "![Video_description_generation_and_query_retrieval_workflow.jpg](./assets/Video_description_generation_and_query_retrieval_workflow.jpg)"
   ]
  },
  {
   "cell_type": "markdown",
   "id": "214bbd89-9b6d-48e8-904d-d08a7450fae0",
   "metadata": {},
   "source": [
    "## Import necessary packages\n",
    "Import all the necessary packages and libraries"
   ]
  },
  {
   "cell_type": "code",
   "execution_count": 1,
   "id": "d24b9f9f-c73b-4f91-91f9-cae38eb75e34",
   "metadata": {},
   "outputs": [],
   "source": [
    "import os\n",
    "import torch\n",
    "import random\n",
    "import shutil\n",
    "import zipfile\n",
    "import logging\n",
    "import chromadb\n",
    "import warnings\n",
    "from tqdm import tqdm\n",
    "from IPython.display import Video, display\n",
    "from huggingface_hub import notebook_login\n",
    "from qwen_vl_utils import process_vision_info\n",
    "from sentence_transformers import SentenceTransformer\n",
    "from transformers import Qwen2_5_VLForConditionalGeneration, AutoTokenizer, AutoProcessor\n",
    "\n",
    "logging.basicConfig(level=logging.INFO)\n",
    "warnings.filterwarnings(\"ignore\")"
   ]
  },
  {
   "cell_type": "markdown",
   "id": "6fd9cf5b-3465-43d0-87bd-b1df7831d5c5",
   "metadata": {},
   "source": [
    "## Login to Huggingface to download the models"
   ]
  },
  {
   "cell_type": "markdown",
   "id": "f306fbcb-82d7-482a-8b53-b1486f81d639",
   "metadata": {},
   "source": [
    "- Log in to [Huggingface](https://huggingface.co/) using your credentials.\n",
    "- You’ll need a [User Access Token](https://huggingface.co/docs/hub/security-tokens), which you can generate from your [Settings page](https://huggingface.co/settings/tokens). This token is used to authenticate your identity with the Hugging Face Hub.\n",
    "- Once you've generated the token, copy it and keep it secure. Then, run the cell below and paste your access token when prompted."
   ]
  },
  {
   "cell_type": "code",
   "execution_count": 2,
   "id": "36f2f1da-9918-412e-b6f1-41eaf41946ed",
   "metadata": {},
   "outputs": [
    {
     "data": {
      "application/vnd.jupyter.widget-view+json": {
       "model_id": "c8251afc35a54042974447b1497aa673",
       "version_major": 2,
       "version_minor": 0
      },
      "text/plain": [
       "VBox(children=(HTML(value='<center> <img\\nsrc=https://huggingface.co/front/assets/huggingface_logo-noborder.sv…"
      ]
     },
     "metadata": {},
     "output_type": "display_data"
    }
   ],
   "source": [
    "notebook_login()"
   ]
  },
  {
   "cell_type": "markdown",
   "id": "d7641924-264d-4d35-99a0-afa00d8b941b",
   "metadata": {},
   "source": [
    "## Extract ZIP file and get video file paths\n",
    "Extract the ZIP file which contains the subset of Sports Videos in the Wild (SVW) dataset. Select the number of videos to select in the directory and return the list of file paths of the videos."
   ]
  },
  {
   "cell_type": "code",
   "execution_count": 3,
   "id": "cd720d58-7b01-48ed-b166-717c6d6afb07",
   "metadata": {
    "scrolled": true
   },
   "outputs": [],
   "source": [
    "def extract_video_paths():\n",
    "    \"\"\"\n",
    "    Extracts video files from the ZIP archive. Select the number of videos to select in the directory and return the video file paths.\n",
    "\n",
    "    Returns:\n",
    "        list: Selected list of paths to the extracted video files.\n",
    "\n",
    "    Raises:\n",
    "        Exception: Raises an exception if there is any error during extracting video dataset.\n",
    "    \"\"\"\n",
    "    try:\n",
    "        zip_path = \"SVW_subset_video_dataset.zip\"\n",
    "        dataset_folder = \"SVW_subset_video_dataset\"\n",
    "        if not os.path.exists(dataset_folder):\n",
    "            logging.info(\" Extracting video dataset..\")\n",
    "            with zipfile.ZipFile(zip_path, \"r\") as zip_ref:\n",
    "                zip_ref.extractall()\n",
    "            logging.info(\" Extraction complete.\")\n",
    "        else:\n",
    "            logging.info(\" Found video dataset directory\")\n",
    "        video_extensions = ['.mp4', '.avi', '.mov', '.mkv', '.flv', '.wmv']\n",
    "        video_files = []\n",
    "        for root, dirs, files in os.walk(dataset_folder):\n",
    "            video_files.extend([os.path.join(root, f) for f in files if any(f.lower().endswith(ext) for ext in video_extensions)])\n",
    "        total_video_files = len(video_files)\n",
    "        max_videos_to_select = 100\n",
    "        num_videos_to_select = min(total_video_files, max_videos_to_select)\n",
    "        random.seed(42)\n",
    "        selected_video_files = random.sample(video_files, num_videos_to_select)\n",
    "        logging.info(f\" Total number of video files found: {total_video_files}\\n\")\n",
    "        logging.info(f\" Selected {num_videos_to_select} video files:\")\n",
    "        for file in selected_video_files:\n",
    "            logging.info(file)\n",
    "        return selected_video_files\n",
    "    except Exception as e:\n",
    "        logging.exception(f\" Error while extracting the video paths: {str(e)}\")"
   ]
  },
  {
   "cell_type": "code",
   "execution_count": 4,
   "id": "3b333d64-3ba6-477e-ac09-14ecfcf3833e",
   "metadata": {
    "scrolled": true
   },
   "outputs": [
    {
     "name": "stderr",
     "output_type": "stream",
     "text": [
      "INFO:root: Found video dataset directory\n",
      "INFO:root: Total number of video files found: 100\n",
      "\n",
      "INFO:root: Selected 100 video files:\n",
      "INFO:root:SVW_subset_video_dataset\\soccer\\252___64eaaaffa5284ed8aae4682f4b08e9ba.mp4\n",
      "INFO:root:SVW_subset_video_dataset\\bowling\\170___2e2237fd3f1349c6aba27ab497659f27.mp4\n",
      "INFO:root:SVW_subset_video_dataset\\baseball\\136___a5ae4b2b86274243b593a3194e2ff6f9.mp4\n",
      "INFO:root:SVW_subset_video_dataset\\weight\\15___b3f6ea0174d144b0a4c1fcc7910ec8f5.mp4\n",
      "INFO:root:SVW_subset_video_dataset\\golf\\10___b918ec5abe94452795b4f0f65637bd84.mp4\n",
      "INFO:root:SVW_subset_video_dataset\\football\\47___9ad16112bc1e4a0c97b066135f03d1b4.mp4\n",
      "INFO:root:SVW_subset_video_dataset\\diving\\192___6098c681c7f24973980e51e3b61e4429.mp4\n",
      "INFO:root:SVW_subset_video_dataset\\bowling\\60___2417a63dd4b84e02ab8485ec3bf10bb3.mp4\n",
      "INFO:root:SVW_subset_video_dataset\\bmx\\329___4ad9a8015a6044468fb06b4ae758eeda.mp4\n",
      "INFO:root:SVW_subset_video_dataset\\tennis\\145___14d52737e37b4fbe8b4aadf4fecaa78a.mp4\n",
      "INFO:root:SVW_subset_video_dataset\\running\\54___ed963024188f4f4486134848d1956137.mp4\n",
      "INFO:root:SVW_subset_video_dataset\\bmx\\183___4fa2e7c4b2d0477abfde87856ef826fe.mp4\n",
      "INFO:root:SVW_subset_video_dataset\\skating\\65___01b43ab8e8d944d1b1c2c197314c5697.mp4\n",
      "INFO:root:SVW_subset_video_dataset\\hurdling\\738___fe4dc0b7124b45fbb6782475198eb8a4.mp4\n",
      "INFO:root:SVW_subset_video_dataset\\baseball\\26___d5f47b2d16c84967b39eb5ef9f5544d2.mp4\n",
      "INFO:root:SVW_subset_video_dataset\\wrestling\\632___151d0a1a2963444ab7a00a100a1e3e16.mp4\n",
      "INFO:root:SVW_subset_video_dataset\\tennis\\400___ec7ac61453fa4f929743f35478679998.mp4\n",
      "INFO:root:SVW_subset_video_dataset\\discusthrow\\830___fa2d41b5ca104749bf8c83f175f37866.mp4\n",
      "INFO:root:SVW_subset_video_dataset\\diving\\217___db72bd8012dc4deba8361b8404881fd7.mp4\n",
      "INFO:root:SVW_subset_video_dataset\\rowing\\14___68fa5a5497184829831241b86fb68cb5.mp4\n",
      "INFO:root:SVW_subset_video_dataset\\skiing\\675___f7f5a5beab4d44e187710d144c21487e.mp4\n",
      "INFO:root:SVW_subset_video_dataset\\swimming\\21___f257ea56e1124574a038c4dcdafe5d9b.mp4\n",
      "INFO:root:SVW_subset_video_dataset\\shotput\\513___b52a9f4f9ce6464090506d26a867fc46.mp4\n",
      "INFO:root:SVW_subset_video_dataset\\discusthrow\\353___33dbb6606d2c49e39e9c412c476c0a41.mp4\n",
      "INFO:root:SVW_subset_video_dataset\\tennis\\629___de9685dd7c0d46769232051fb3a5d151.mp4\n",
      "INFO:root:SVW_subset_video_dataset\\hurdling\\475___701f4379f9e24a5894976fab1922d34e.mp4\n",
      "INFO:root:SVW_subset_video_dataset\\volleyball\\99___41058ebcf2d044d0b268f96779acfe94.mp4\n",
      "INFO:root:SVW_subset_video_dataset\\javelin\\4___3e61b02bd5184494aa4690d0670dbb11.mp4\n",
      "INFO:root:SVW_subset_video_dataset\\weight\\62___6f39d043fa7a41d780b129d9bceb66cc.mp4\n",
      "INFO:root:SVW_subset_video_dataset\\archery\\235___ac6a72dc95e64a1da239285b073985b8.mp4\n",
      "INFO:root:SVW_subset_video_dataset\\boxing\\571___6538518177a846e98dfc735961500455.mp4\n",
      "INFO:root:SVW_subset_video_dataset\\volleyball\\106___a9aa810332d34e0ca94d29b235b894d6.mp4\n",
      "INFO:root:SVW_subset_video_dataset\\hammerthrow\\547___35ee9e3b64b64971bfef9cfdcbe41c02.mp4\n",
      "INFO:root:SVW_subset_video_dataset\\soccer\\168___22083b811c444f438c4e8dc464b28278.mp4\n",
      "INFO:root:SVW_subset_video_dataset\\boxing\\1566___8c414ed34bf849868634a9eba5c06894.mp4\n",
      "INFO:root:SVW_subset_video_dataset\\soccer\\45___bf93e68d23d34954ac19ba95db0c97e0.mp4\n",
      "INFO:root:SVW_subset_video_dataset\\running\\106___0205f35e2fad42b1bd11ef4aefb22670.mp4\n",
      "INFO:root:SVW_subset_video_dataset\\baseball\\5___10649b879e334cf9a517a0c6aeb85931.mp4\n",
      "INFO:root:SVW_subset_video_dataset\\baseball\\33___7792b418db734dde9d238778a0f1f27c.mp4\n",
      "INFO:root:SVW_subset_video_dataset\\cheerleading\\243___cf71bdaa7d2a4608923d7e2663f26f97.mp4\n",
      "INFO:root:SVW_subset_video_dataset\\polevault\\44___363a88fc53834cea9c29cc59c8e26204.mp4\n",
      "INFO:root:SVW_subset_video_dataset\\cheerleading\\110___23da3be84d284c97aefdf2e8d00053f0.mp4\n",
      "INFO:root:SVW_subset_video_dataset\\running\\137___e6fffd316d8741eba910d7c4bb039ae4.mp4\n",
      "INFO:root:SVW_subset_video_dataset\\longjump\\103___7a39f6ae79a648be9eacd68a65a96aa5.mp4\n",
      "INFO:root:SVW_subset_video_dataset\\golf\\36___5651dabf094b41fdaa9b1d19f72645ff.mp4\n",
      "INFO:root:SVW_subset_video_dataset\\bowling\\52___471780494c174b8b9e4d5e1b71eb2bba.mp4\n",
      "INFO:root:SVW_subset_video_dataset\\hockey\\91___327f99c4bc8d4726b3ab4113b4d063d9.mp4\n",
      "INFO:root:SVW_subset_video_dataset\\archery\\46___cf3e328ce61448308b9e9ff3517b4aad.mp4\n",
      "INFO:root:SVW_subset_video_dataset\\highjump\\141___975a30d88a33428a9303a8cadb2376d7.mp4\n",
      "INFO:root:SVW_subset_video_dataset\\wrestling\\78___5dd3c818e9e549e2a44a7850e515f101.mp4\n",
      "INFO:root:SVW_subset_video_dataset\\football\\90___bd1f755ddd9147059595e990a46ee353.mp4\n",
      "INFO:root:SVW_subset_video_dataset\\basketball\\162___2c6bfd4a66794f1b90f807d3b34e2d31.mp4\n",
      "INFO:root:SVW_subset_video_dataset\\longjump\\32___1bede331140c42c8b0b46a2cfb9ffbe1.mp4\n",
      "INFO:root:SVW_subset_video_dataset\\polevault\\17___bbd9593cb458417ab308ad1d8bb04ecb.mp4\n",
      "INFO:root:SVW_subset_video_dataset\\rowing\\82___ad1d27601d704025aef5d15b0dd31dd6.mp4\n",
      "INFO:root:SVW_subset_video_dataset\\boxing\\1455___430099f52dd04dcfaa01104d8fd6940d.mp4\n",
      "INFO:root:SVW_subset_video_dataset\\gymnastics\\42___8cbef5afab524d9a91ba6999d7630d44.mp4\n",
      "INFO:root:SVW_subset_video_dataset\\gymnastics\\18___f9f5efe4c3ae41b392ddc91300ae9a57.mp4\n",
      "INFO:root:SVW_subset_video_dataset\\cheerleading\\237___58b78af4ac144e6388a20fc0fcb7a5f3.mp4\n",
      "INFO:root:SVW_subset_video_dataset\\golf\\20___b98e0203cd784137bc7b9c1b2a47ae57.mp4\n",
      "INFO:root:SVW_subset_video_dataset\\bmx\\291___b3c2ff4d2cdd43caa95e77b3db1faa22.mp4\n",
      "INFO:root:SVW_subset_video_dataset\\swimming\\45___1d6b948ce987440bbd5a4f4332c442e1.mp4\n",
      "INFO:root:SVW_subset_video_dataset\\hurdling\\295___7130e4846d92413d92c3fb200388dc0e.mp4\n",
      "INFO:root:SVW_subset_video_dataset\\wrestling\\744___37752aeec1b24050acfc78ff864569d3.mp4\n",
      "INFO:root:SVW_subset_video_dataset\\hammerthrow\\987___0c74d6762c394068962b7352ae533fb5.mp4\n",
      "INFO:root:SVW_subset_video_dataset\\skating\\200___72711b13c6944d61b9b9d1f1fa17cd1d.mp4\n",
      "INFO:root:SVW_subset_video_dataset\\polevault\\6___81a30a600a784637b67ceacf9bd8abce.mp4\n",
      "INFO:root:SVW_subset_video_dataset\\longjump\\146___fc3547c70e7c4c4b9bbd4dfeff9369aa.mp4\n",
      "INFO:root:SVW_subset_video_dataset\\highjump\\16___e88453acae28432e962a3059be9ea97e.mp4\n",
      "INFO:root:SVW_subset_video_dataset\\basketball\\25___fd42a2fdba0d4c2fa72b6800ee0914d4.mp4\n",
      "INFO:root:SVW_subset_video_dataset\\football\\89___fdeb3b446c5742ca94e7b94002adf1b6.mp4\n",
      "INFO:root:SVW_subset_video_dataset\\tennis\\229___a9e0cbc099024f70b19625ae67c05f8f.mp4\n",
      "INFO:root:SVW_subset_video_dataset\\discusthrow\\735___efa53cd6eff0462c92cd13ae78f3663f.mp4\n",
      "INFO:root:SVW_subset_video_dataset\\swimming\\12___75eedbdebeb047d1b79396fa9bc77789.mp4\n",
      "INFO:root:SVW_subset_video_dataset\\hockey\\166___70837b12ec39433a91d6bd547a216819.mp4\n",
      "INFO:root:SVW_subset_video_dataset\\soccer\\175___5618d2991ac34351b871caf14ae4b4d4.mp4\n",
      "INFO:root:SVW_subset_video_dataset\\weight\\67___849dd6800cc745338cd5ce328def2a1c.mp4\n",
      "INFO:root:SVW_subset_video_dataset\\football\\61___7fbebddcdd27444a85e0a5df0ccf9564.mp4\n",
      "INFO:root:SVW_subset_video_dataset\\boxing\\68___f3a86f4ec02841eea04b3cf7a9e40de2.mp4\n",
      "INFO:root:SVW_subset_video_dataset\\diving\\334___f632cff42b2545f2ba9023e1aca7512e.mp4\n",
      "INFO:root:SVW_subset_video_dataset\\golf\\27___005a928b047c4cd48374c17362ddf8e1.mp4\n",
      "INFO:root:SVW_subset_video_dataset\\skiing\\488___908f3854c6974b9fb6af4ab4a3c4ee16.mp4\n",
      "INFO:root:SVW_subset_video_dataset\\volleyball\\50___4d4579b5a56e48e5bba6acbbe98d07b8.mp4\n",
      "INFO:root:SVW_subset_video_dataset\\hockey\\144___e74e37d5724c4445ba95e0cc70573fad.mp4\n",
      "INFO:root:SVW_subset_video_dataset\\highjump\\102___0b361fecc6ff46218c69f263ab859cbe.mp4\n",
      "INFO:root:SVW_subset_video_dataset\\shotput\\552___67b033cd35284b0cb3b283d16ef30d31.mp4\n",
      "INFO:root:SVW_subset_video_dataset\\javelin\\20___2932ac6d65eb439eaaec362f17f6ac70.mp4\n",
      "INFO:root:SVW_subset_video_dataset\\javelin\\153___9278e7841c8c45ab900717f3c1589b77.mp4\n",
      "INFO:root:SVW_subset_video_dataset\\basketball\\51___8b4bb2cf2e8b4810a10c6568bb99e4e1.mp4\n",
      "INFO:root:SVW_subset_video_dataset\\skating\\108___a4e0b1498e004756bd1e5b106dc62d35.mp4\n",
      "INFO:root:SVW_subset_video_dataset\\skiing\\797___74378f48683c4f43ba3ef0c58fcab4b3.mp4\n",
      "INFO:root:SVW_subset_video_dataset\\bowling\\325___4097661c7d0e4d80b085920e3fa0dfd9.mp4\n",
      "INFO:root:SVW_subset_video_dataset\\shotput\\179___7ffe0656ce7c4a6b93ffd16fbf7c0eb3.mp4\n",
      "INFO:root:SVW_subset_video_dataset\\archery\\298___dba56a1d93f84561927e5881edf0c670.mp4\n",
      "INFO:root:SVW_subset_video_dataset\\hockey\\7___243cc23e4b2f47e1893f09863845b934.mp4\n",
      "INFO:root:SVW_subset_video_dataset\\rowing\\306___293f5089adc54ab39c866226e68ea866.mp4\n",
      "INFO:root:SVW_subset_video_dataset\\basketball\\49___9e25e3a078404687837d2c7b7ed34e45.mp4\n",
      "INFO:root:SVW_subset_video_dataset\\volleyball\\2___59589caa29034f41b53e0aa19227a519.mp4\n",
      "INFO:root:SVW_subset_video_dataset\\gymnastics\\58___bed1133eca984767a67a1e8e68160a47.mp4\n",
      "INFO:root:SVW_subset_video_dataset\\hammerthrow\\27___eedf5982ac514735a209e9b349bce298.mp4\n"
     ]
    }
   ],
   "source": [
    "selected_video_files = extract_video_paths()"
   ]
  },
  {
   "cell_type": "markdown",
   "id": "b8bbdd4d-b39f-4f01-bd9d-87c925eec9e5",
   "metadata": {},
   "source": [
    "## Initialize models\n",
    "Initialize the Vision Language Model(Qwen2.5-VL-3B-Instruct) and Sentence Transformer model(all-MiniLM-L6-v2)."
   ]
  },
  {
   "cell_type": "code",
   "execution_count": 5,
   "id": "d1a34422-4b88-4ef9-ba87-9e4a88d87b0a",
   "metadata": {},
   "outputs": [],
   "source": [
    "def initialize_models():\n",
    "    \"\"\"\n",
    "    Initialize Vision Language and Sentence Transformer models.\n",
    "\n",
    "    Returns:\n",
    "        dict: Dictionary containg the initialized Vision Language and Sentence Transformer models.\n",
    "\n",
    "    Raises:\n",
    "        Exception: Raises an exception if the model loading fails.\n",
    "    \"\"\"\n",
    "    try:\n",
    "        model_id = \"Qwen/Qwen2.5-VL-3B-Instruct\"\n",
    "        embedding_model_id = \"all-MiniLM-L6-v2\"\n",
    "        vl_model = Qwen2_5_VLForConditionalGeneration.from_pretrained(pretrained_model_name_or_path=model_id,\n",
    "                                                                      torch_dtype=torch.float16)\n",
    "        processor = AutoProcessor.from_pretrained(pretrained_model_name_or_path=model_id,\n",
    "                                                  min_pixels=256*14*14,\n",
    "                                                  max_pixels=768*28*28,\n",
    "                                                  use_fast=True)\n",
    "        device = \"xpu\" if torch.xpu.is_available() else \"cpu\"\n",
    "        vl_model = vl_model.to(device)\n",
    "        logging.info(f\" Loading Qwen Vision Language Model: {model_id}\")\n",
    "        logging.info(f\" Loading Qwen Vision Language Model onto the Pytorch device: {device}\")\n",
    "        embedding_model = SentenceTransformer(embedding_model_id)        \n",
    "        return {\n",
    "            \"vl_model\": vl_model,\n",
    "            \"processor\": processor,\n",
    "            \"embedding_model\": embedding_model\n",
    "        }\n",
    "    except Exception as e:\n",
    "        logging.exception(f\" Error while loading the models: {str(e)}\")"
   ]
  },
  {
   "cell_type": "code",
   "execution_count": 6,
   "id": "8eafdcf3-dc6a-4aa0-90a2-e6d41a552f0c",
   "metadata": {},
   "outputs": [
    {
     "data": {
      "application/vnd.jupyter.widget-view+json": {
       "model_id": "081d0c5e859b4b8291a0e9da0449d5de",
       "version_major": 2,
       "version_minor": 0
      },
      "text/plain": [
       "Loading checkpoint shards:   0%|          | 0/2 [00:00<?, ?it/s]"
      ]
     },
     "metadata": {},
     "output_type": "display_data"
    },
    {
     "name": "stderr",
     "output_type": "stream",
     "text": [
      "INFO:root: Loading Qwen Vision Language Model: Qwen/Qwen2.5-VL-3B-Instruct\n",
      "INFO:root: Loading Qwen Vision Language Model onto the Pytorch device: xpu\n",
      "INFO:sentence_transformers.SentenceTransformer:Use pytorch device_name: cpu\n",
      "INFO:sentence_transformers.SentenceTransformer:Load pretrained SentenceTransformer: all-MiniLM-L6-v2\n"
     ]
    }
   ],
   "source": [
    "models = initialize_models()\n",
    "vl_model = models[\"vl_model\"]\n",
    "processor = models[\"processor\"]\n",
    "embedding_model = models[\"embedding_model\"]"
   ]
  },
  {
   "cell_type": "markdown",
   "id": "7b3d3cce-ac20-4ccd-ba99-50d11ed295bb",
   "metadata": {},
   "source": [
    "## Get or create Chromadb collection\n",
    "Connects to the persistent ChromaDB client if already created. If there is no collection available it is going to create a new persistant ChromaDB collection for storing the Video descriptions and filenames. Here we are using cosine similarity for space parameter which will define the distance function of embedding space."
   ]
  },
  {
   "cell_type": "code",
   "execution_count": 7,
   "id": "8f3cf650-fd55-435e-babb-28d96974ab01",
   "metadata": {},
   "outputs": [],
   "source": [
    "def get_or_create_database():\n",
    "    \"\"\"\n",
    "    Connects to or creates a persistant ChromaDB collection for storing the Video descriptions and filenames.\n",
    "\n",
    "    Returns:\n",
    "        collection: The ChromaDB collection object.\n",
    "        existing_descriptions (dict): The dictionary contains video descriptions of the existing Chromadb database collection.\n",
    "\n",
    "    Raises:\n",
    "        Exception: Raises an exception if there is any error while checking an existing database.\n",
    "    \"\"\"\n",
    "    try:\n",
    "        client = chromadb.PersistentClient(path=\"Video_descriptions_database\")\n",
    "        collection = client.get_or_create_collection(\n",
    "            name=\"Video_descriptions\", \n",
    "            configuration={\n",
    "                \"hnsw\": {\n",
    "                    \"space\": \"cosine\",\n",
    "                },\n",
    "            }\n",
    "        )\n",
    "        logging.info(\" Checking existing descriptions in database..\")\n",
    "        all_items = collection.get(include=[\"metadatas\", \"documents\"])\n",
    "        existing_descriptions = {}\n",
    "        for metadata, doc in zip(all_items['metadatas'], all_items['documents']):\n",
    "            existing_descriptions[metadata['video_filename']] = doc\n",
    "        logging.info(f\" Found {len(existing_descriptions)} existing descriptions\")\n",
    "        return collection, existing_descriptions\n",
    "    except Exception as e:\n",
    "        existing_descriptions = {}\n",
    "        logging.exception(\" No existing descriptions found\")\n",
    "        logging.exception(f\" Error while checking an existing database: {str(e)}\")"
   ]
  },
  {
   "cell_type": "code",
   "execution_count": 8,
   "id": "940150ef-4bea-4a85-9b06-46df884197b6",
   "metadata": {},
   "outputs": [
    {
     "name": "stderr",
     "output_type": "stream",
     "text": [
      "INFO:chromadb.telemetry.product.posthog:Anonymized telemetry enabled. See                     https://docs.trychroma.com/telemetry for more information.\n",
      "INFO:root: Checking existing descriptions in database..\n",
      "INFO:root: Found 0 existing descriptions\n"
     ]
    }
   ],
   "source": [
    "collection, existing_descriptions = get_or_create_database()"
   ]
  },
  {
   "cell_type": "markdown",
   "id": "bc99ee8b-0b84-4ca8-8e7c-3428493386c3",
   "metadata": {},
   "source": [
    "## Generate and store video descriptions\n",
    "Each file in the selected video files list will be checked to determine whether it has already generated video description and stored in the database. If the file is not present in the collection database, a description will be generated by the Qwen model and stored in the collection database."
   ]
  },
  {
   "cell_type": "code",
   "execution_count": 9,
   "id": "ec42261b-8d9e-4173-be4c-9f347ff19a67",
   "metadata": {
    "scrolled": true
   },
   "outputs": [],
   "source": [
    "def generate_and_store_video_descriptions(selected_video_files, collection, existing_descriptions, vl_model, processor, embedding_model):\n",
    "    \"\"\"\n",
    "    Check and generate video description for each video file in the selected directory.\n",
    "    Store the embeddings of generated video descriptions in the ChromaDB collection.\n",
    "    \n",
    "    Args:\n",
    "        selected_video_files (list): List of selected video files.\n",
    "        collection: The ChromaDB collection object.\n",
    "        existing_descriptions (dict): The dictionary contains video descriptions of the existing Chromadb database collection.\n",
    "        vl_model: Vision Language Model for generating video descriptions.\n",
    "        processor: Vision Language Model processor for processing videos.\n",
    "        embedding_model: Sentence Transformer Model for generating embeddings.\n",
    "\n",
    "    Raises:\n",
    "        Exception: Raises an exception if there is any error while generating video descriptions or storing the embeddings in the database.\n",
    "    \"\"\"\n",
    "    try:\n",
    "        video_descriptions = {}\n",
    "        for i, video_file in enumerate(tqdm(selected_video_files)):\n",
    "            video_filename = os.path.basename(video_file)\n",
    "            if video_filename in existing_descriptions:\n",
    "                logging.info(f\" Skipping file {os.path.basename(video_file)} - video description already present in the database\")\n",
    "                video_descriptions[video_file] = existing_descriptions[video_filename]\n",
    "                continue\n",
    "\n",
    "            video_path = video_file\n",
    "            torch.xpu.empty_cache()\n",
    "            logging.info(f\"\\n Processing file {os.path.basename(video_file)} using Qwen 2.5 VL on Pytorch XPU..\")\n",
    "            messages = [\n",
    "                {\n",
    "                    \"role\": \"user\",\n",
    "                    \"content\": [\n",
    "                        {\n",
    "                            \"type\": \"video\",\n",
    "                            \"video\": video_path,\n",
    "                            \"max_pixels\": 320*240,\n",
    "                            \"fps\": 0.5,\n",
    "                        },\n",
    "                        {\n",
    "                            \"type\": \"text\",\n",
    "                            \"text\": \"Describe this sports video.\"\n",
    "                        },\n",
    "                    ],\n",
    "                }\n",
    "            ]\n",
    "            text = processor.apply_chat_template(messages, tokenize=False, add_generation_prompt=True)\n",
    "            image_inputs, video_inputs = process_vision_info(messages)\n",
    "            inputs = processor(\n",
    "                text=[text],\n",
    "                images=image_inputs,\n",
    "                videos=video_inputs,\n",
    "                padding=True,\n",
    "                return_tensors=\"pt\",\n",
    "            )\n",
    "            inputs = inputs.to(\"xpu\")\n",
    "            generated_ids = vl_model.generate(**inputs, max_new_tokens=128)\n",
    "            generated_ids_trimmed = [\n",
    "                out_ids[len(in_ids) :] for in_ids, out_ids in zip(inputs.input_ids, generated_ids)\n",
    "            ]\n",
    "            output_text = processor.batch_decode(\n",
    "                generated_ids_trimmed, skip_special_tokens=True, clean_up_tokenization_spaces=False\n",
    "            )\n",
    "            description_text = output_text[0] if isinstance(output_text, list) else str(output_text)\n",
    "            video_descriptions[video_file] = description_text\n",
    "            logging.info(f\" Generated description: {description_text}.\\n\")\n",
    "            # video_descriptions[video_file] = output_text\n",
    "            embedding = embedding_model.encode(sentences=description_text).tolist()\n",
    "            collection.add(\n",
    "                embeddings=[embedding],\n",
    "                documents=[description_text],\n",
    "                metadatas=[{\"video_filename\": os.path.basename(video_file)}],\n",
    "                ids=[video_file]\n",
    "            )\n",
    "            logging.info(f\" Added {os.path.basename(video_file)} video file description to database\\n\\n ******\")\n",
    "        logging.info(f\" Processed {len(video_descriptions)} videos\")\n",
    "        logging.info(f\" Database now has {collection.count()} total descriptions\")\n",
    "    except Exception as e:\n",
    "        logging.exception(f\" Error while generating and storing video descriptions: {str(e)}\")"
   ]
  },
  {
   "cell_type": "markdown",
   "id": "1fbaba5c-09ae-4b60-89ea-f886bdd89d2b",
   "metadata": {},
   "source": [
    "<div class=\"alert alert-warning\" role=\"alert\">\n",
    "  Generating video descriptions and updating the database. This may take some time.\n",
    "</div>"
   ]
  },
  {
   "cell_type": "code",
   "execution_count": 10,
   "id": "829fedae-16d5-47f8-8d2a-447e78d3e3bf",
   "metadata": {
    "scrolled": true
   },
   "outputs": [
    {
     "name": "stderr",
     "output_type": "stream",
     "text": [
      "  0%|                                                                                          | 0/100 [00:00<?, ?it/s]INFO:root:\n",
      " Processing file 252___64eaaaffa5284ed8aae4682f4b08e9ba.mp4 using Qwen 2.5 VL on Pytorch XPU..\n",
      "qwen-vl-utils using decord to read video.\n",
      "INFO:qwen_vl_utils.vision_process:decord:  video_path='SVW_subset_video_dataset\\\\soccer\\\\252___64eaaaffa5284ed8aae4682f4b08e9ba.mp4', total_frames=193, video_fps=30.0, time=0.037s\n",
      "INFO:root: Generated description: The video shows a group of people playing soccer on an outdoor field. The players are wearing red jerseys and are actively engaged in the game, with one player kicking the ball towards the goal. The background features a cityscape with buildings and hills, suggesting that the field is located in an urban area. The sky is clear and sunny, indicating good weather conditions for playing soccer..\n",
      "\n"
     ]
    },
    {
     "data": {
      "application/vnd.jupyter.widget-view+json": {
       "model_id": "4df0c422e3614acd97e9965a006a4a50",
       "version_major": 2,
       "version_minor": 0
      },
      "text/plain": [
       "Batches:   0%|          | 0/1 [00:00<?, ?it/s]"
      ]
     },
     "metadata": {},
     "output_type": "display_data"
    },
    {
     "name": "stderr",
     "output_type": "stream",
     "text": [
      "INFO:root: Added 252___64eaaaffa5284ed8aae4682f4b08e9ba.mp4 video file description to database\n",
      "\n",
      " ******\n",
      "  1%|▊                                                                               | 1/100 [01:03<1:44:28, 63.32s/it]INFO:root:\n",
      " Processing file 170___2e2237fd3f1349c6aba27ab497659f27.mp4 using Qwen 2.5 VL on Pytorch XPU..\n",
      "INFO:qwen_vl_utils.vision_process:decord:  video_path='SVW_subset_video_dataset\\\\bowling\\\\170___2e2237fd3f1349c6aba27ab497659f27.mp4', total_frames=113, video_fps=30.0, time=0.004s\n",
      "INFO:root: Generated description: The video shows a man bowling in a bowling alley. He is wearing a brown shirt and khaki pants, and he is standing on the lane with his feet shoulder-width apart. He swings his arm back and then throws the ball down the lane. The ball rolls down the lane and hits the pins at the end of the lane. The man then walks back to his ball return and picks up another ball. He repeats the process of swinging his arm back and throwing the ball down the lane..\n",
      "\n"
     ]
    },
    {
     "data": {
      "application/vnd.jupyter.widget-view+json": {
       "model_id": "a608c4814e804ae79450c68c67dd1fdc",
       "version_major": 2,
       "version_minor": 0
      },
      "text/plain": [
       "Batches:   0%|          | 0/1 [00:00<?, ?it/s]"
      ]
     },
     "metadata": {},
     "output_type": "display_data"
    },
    {
     "name": "stderr",
     "output_type": "stream",
     "text": [
      "INFO:root: Added 170___2e2237fd3f1349c6aba27ab497659f27.mp4 video file description to database\n",
      "\n",
      " ******\n",
      "  2%|█▌                                                                              | 2/100 [02:15<1:51:59, 68.57s/it]INFO:root:\n",
      " Processing file 136___a5ae4b2b86274243b593a3194e2ff6f9.mp4 using Qwen 2.5 VL on Pytorch XPU..\n",
      "INFO:qwen_vl_utils.vision_process:decord:  video_path='SVW_subset_video_dataset\\\\baseball\\\\136___a5ae4b2b86274243b593a3194e2ff6f9.mp4', total_frames=87, video_fps=30.0, time=0.000s\n",
      "INFO:root: Generated description: The video captures a baseball game in progress. The pitcher is on the mound, preparing to throw the ball. The batter is at home plate, ready to swing. The catcher and umpire are behind the batter, ready to react to the pitch. The field is well-maintained, with green grass and a dirt infield. The sky is cloudy, suggesting it might be a cool day. The players are dressed in their uniforms, indicating they are professional or semi-professional. The video is shot from a distance, providing a wide view of the field and the action..\n",
      "\n"
     ]
    },
    {
     "data": {
      "application/vnd.jupyter.widget-view+json": {
       "model_id": "cd0ba26e87d14a4b9085685488dac08c",
       "version_major": 2,
       "version_minor": 0
      },
      "text/plain": [
       "Batches:   0%|          | 0/1 [00:00<?, ?it/s]"
      ]
     },
     "metadata": {},
     "output_type": "display_data"
    },
    {
     "name": "stderr",
     "output_type": "stream",
     "text": [
      "INFO:root: Added 136___a5ae4b2b86274243b593a3194e2ff6f9.mp4 video file description to database\n",
      "\n",
      " ******\n",
      "  3%|██▍                                                                             | 3/100 [03:37<2:00:41, 74.65s/it]INFO:root:\n",
      " Processing file 15___b3f6ea0174d144b0a4c1fcc7910ec8f5.mp4 using Qwen 2.5 VL on Pytorch XPU..\n",
      "INFO:qwen_vl_utils.vision_process:decord:  video_path='SVW_subset_video_dataset\\\\weight\\\\15___b3f6ea0174d144b0a4c1fcc7910ec8f5.mp4', total_frames=777, video_fps=30.0, time=0.015s\n",
      "INFO:root: Generated description: A man is performing a deadlift in a gym. He bends down and lifts a barbell loaded with weights from the floor to his waist. He holds the barbell at his waist for a moment before lowering it back to the floor. He repeats this movement several times..\n",
      "\n"
     ]
    },
    {
     "data": {
      "application/vnd.jupyter.widget-view+json": {
       "model_id": "9566dcc9d5d24dc789ea3c10624efb7b",
       "version_major": 2,
       "version_minor": 0
      },
      "text/plain": [
       "Batches:   0%|          | 0/1 [00:00<?, ?it/s]"
      ]
     },
     "metadata": {},
     "output_type": "display_data"
    },
    {
     "name": "stderr",
     "output_type": "stream",
     "text": [
      "INFO:root: Added 15___b3f6ea0174d144b0a4c1fcc7910ec8f5.mp4 video file description to database\n",
      "\n",
      " ******\n",
      "  4%|███▏                                                                            | 4/100 [04:27<1:43:49, 64.89s/it]INFO:root:\n",
      " Processing file 10___b918ec5abe94452795b4f0f65637bd84.mp4 using Qwen 2.5 VL on Pytorch XPU..\n",
      "INFO:qwen_vl_utils.vision_process:decord:  video_path='SVW_subset_video_dataset\\\\golf\\\\10___b918ec5abe94452795b4f0f65637bd84.mp4', total_frames=112, video_fps=30.0, time=0.008s\n",
      "INFO:root: Generated description: The video shows a young girl practicing her golf swing on a grassy course. She is holding a golf club and appears to be hitting golf balls. The background features other people, likely fellow golfers or spectators, and the landscape includes mountains in the distance. The setting suggests a sunny day with clear skies..\n",
      "\n"
     ]
    },
    {
     "data": {
      "application/vnd.jupyter.widget-view+json": {
       "model_id": "641e4a4dbd374ede86480116bbf97453",
       "version_major": 2,
       "version_minor": 0
      },
      "text/plain": [
       "Batches:   0%|          | 0/1 [00:00<?, ?it/s]"
      ]
     },
     "metadata": {},
     "output_type": "display_data"
    },
    {
     "name": "stderr",
     "output_type": "stream",
     "text": [
      "INFO:root: Added 10___b918ec5abe94452795b4f0f65637bd84.mp4 video file description to database\n",
      "\n",
      " ******\n",
      "  5%|████                                                                            | 5/100 [05:12<1:31:36, 57.86s/it]INFO:root:\n",
      " Processing file 47___9ad16112bc1e4a0c97b066135f03d1b4.mp4 using Qwen 2.5 VL on Pytorch XPU..\n",
      "INFO:qwen_vl_utils.vision_process:decord:  video_path='SVW_subset_video_dataset\\\\football\\\\47___9ad16112bc1e4a0c97b066135f03d1b4.mp4', total_frames=224, video_fps=30.0, time=0.009s\n",
      "INFO:root: Generated description: The video captures a youth football game in progress. Players in blue jerseys are lined up on the field, preparing for a play. The scene is set outdoors, with a building and trees visible in the background. The players are focused and ready, indicating that the game is about to begin or is in the midst of action. The atmosphere suggests a competitive and energetic environment typical of youth sports events..\n",
      "\n"
     ]
    },
    {
     "data": {
      "application/vnd.jupyter.widget-view+json": {
       "model_id": "c07f7088787a44c8aeb319770cd3e69f",
       "version_major": 2,
       "version_minor": 0
      },
      "text/plain": [
       "Batches:   0%|          | 0/1 [00:00<?, ?it/s]"
      ]
     },
     "metadata": {},
     "output_type": "display_data"
    },
    {
     "name": "stderr",
     "output_type": "stream",
     "text": [
      "INFO:root: Added 47___9ad16112bc1e4a0c97b066135f03d1b4.mp4 video file description to database\n",
      "\n",
      " ******\n",
      "  6%|████▊                                                                           | 6/100 [06:09<1:30:11, 57.57s/it]INFO:root:\n",
      " Processing file 192___6098c681c7f24973980e51e3b61e4429.mp4 using Qwen 2.5 VL on Pytorch XPU..\n",
      "INFO:qwen_vl_utils.vision_process:decord:  video_path='SVW_subset_video_dataset\\\\diving\\\\192___6098c681c7f24973980e51e3b61e4429.mp4', total_frames=1634, video_fps=30.0, time=0.032s\n",
      "INFO:root: Generated description: A young man stands at the edge of a diving board, preparing to dive into a pool. He is wearing a swimsuit and has his arms outstretched for balance. The diving board is located in an outdoor swimming pool area, with clear blue water below. The sky is clear and sunny, indicating it's a bright day. The diving board is attached to a metal frame, and there are several lights visible in the background. The man takes a deep breath and then dives headfirst into the water, creating a splash as he enters the pool..\n",
      "\n"
     ]
    },
    {
     "data": {
      "application/vnd.jupyter.widget-view+json": {
       "model_id": "f146e59925174bb4a721099d80182f0b",
       "version_major": 2,
       "version_minor": 0
      },
      "text/plain": [
       "Batches:   0%|          | 0/1 [00:00<?, ?it/s]"
      ]
     },
     "metadata": {},
     "output_type": "display_data"
    },
    {
     "name": "stderr",
     "output_type": "stream",
     "text": [
      "INFO:root: Added 192___6098c681c7f24973980e51e3b61e4429.mp4 video file description to database\n",
      "\n",
      " ******\n",
      "  7%|█████▌                                                                          | 7/100 [08:05<1:58:41, 76.58s/it]INFO:root:\n",
      " Processing file 60___2417a63dd4b84e02ab8485ec3bf10bb3.mp4 using Qwen 2.5 VL on Pytorch XPU..\n",
      "INFO:qwen_vl_utils.vision_process:decord:  video_path='SVW_subset_video_dataset\\\\bowling\\\\60___2417a63dd4b84e02ab8485ec3bf10bb3.mp4', total_frames=574, video_fps=30.0, time=0.014s\n",
      "INFO:root: Generated description: The video shows a young boy in a bowling alley, preparing to bowl. He is holding a bowling ball and is standing at the end of a lane, facing the pins. The boy is wearing a red shirt and black shorts. He takes a few steps forward and then throws the ball down the lane. The ball rolls down the lane and hits the pins, knocking them down. The boy then walks back up the lane to retrieve his next ball..\n",
      "\n"
     ]
    },
    {
     "data": {
      "application/vnd.jupyter.widget-view+json": {
       "model_id": "b269fa7c27f64d2ab4b5885adf5db515",
       "version_major": 2,
       "version_minor": 0
      },
      "text/plain": [
       "Batches:   0%|          | 0/1 [00:00<?, ?it/s]"
      ]
     },
     "metadata": {},
     "output_type": "display_data"
    },
    {
     "name": "stderr",
     "output_type": "stream",
     "text": [
      "INFO:root: Added 60___2417a63dd4b84e02ab8485ec3bf10bb3.mp4 video file description to database\n",
      "\n",
      " ******\n",
      "  8%|██████▍                                                                         | 8/100 [09:18<1:55:32, 75.35s/it]INFO:root:\n",
      " Processing file 329___4ad9a8015a6044468fb06b4ae758eeda.mp4 using Qwen 2.5 VL on Pytorch XPU..\n",
      "INFO:qwen_vl_utils.vision_process:decord:  video_path='SVW_subset_video_dataset\\\\bmx\\\\329___4ad9a8015a6044468fb06b4ae758eeda.mp4', total_frames=398, video_fps=30.0, time=0.013s\n",
      "INFO:root: Generated description: The video captures a dynamic scene of a BMX rider performing a trick on a wooden ramp. The rider, dressed in a white and orange outfit with a helmet, is seen launching off the ramp and executing a mid-air maneuver. The background features a dirt track with other riders and spectators, indicating an outdoor BMX park setting. The sky is clear, suggesting it's a sunny day. The video showcases the skill and athleticism of the BMX rider as they navigate the ramp and perform their trick..\n",
      "\n"
     ]
    },
    {
     "data": {
      "application/vnd.jupyter.widget-view+json": {
       "model_id": "dc849376810a4bf0bb7090778d95bbf6",
       "version_major": 2,
       "version_minor": 0
      },
      "text/plain": [
       "Batches:   0%|          | 0/1 [00:00<?, ?it/s]"
      ]
     },
     "metadata": {},
     "output_type": "display_data"
    },
    {
     "name": "stderr",
     "output_type": "stream",
     "text": [
      "INFO:root: Added 329___4ad9a8015a6044468fb06b4ae758eeda.mp4 video file description to database\n",
      "\n",
      " ******\n",
      "  9%|███████▏                                                                        | 9/100 [10:33<1:54:13, 75.31s/it]INFO:root:\n",
      " Processing file 145___14d52737e37b4fbe8b4aadf4fecaa78a.mp4 using Qwen 2.5 VL on Pytorch XPU..\n",
      "INFO:qwen_vl_utils.vision_process:decord:  video_path='SVW_subset_video_dataset\\\\tennis\\\\145___14d52737e37b4fbe8b4aadf4fecaa78a.mp4', total_frames=320, video_fps=30.0, time=0.010s\n",
      "INFO:root: Generated description: The video shows a man standing on a clay tennis court, holding a tennis racket in his right hand. He is wearing a white t-shirt and dark shorts. The court is surrounded by a fence, and there are trees and buildings visible in the background. The sky is clear and blue. The man appears to be preparing to play tennis..\n",
      "\n"
     ]
    },
    {
     "data": {
      "application/vnd.jupyter.widget-view+json": {
       "model_id": "71ff88d64e4542c9bfb38069284f25f7",
       "version_major": 2,
       "version_minor": 0
      },
      "text/plain": [
       "Batches:   0%|          | 0/1 [00:00<?, ?it/s]"
      ]
     },
     "metadata": {},
     "output_type": "display_data"
    },
    {
     "name": "stderr",
     "output_type": "stream",
     "text": [
      "INFO:root: Added 145___14d52737e37b4fbe8b4aadf4fecaa78a.mp4 video file description to database\n",
      "\n",
      " ******\n",
      " 10%|███████▉                                                                       | 10/100 [11:24<1:41:37, 67.75s/it]INFO:root:\n",
      " Processing file 54___ed963024188f4f4486134848d1956137.mp4 using Qwen 2.5 VL on Pytorch XPU..\n",
      "INFO:qwen_vl_utils.vision_process:decord:  video_path='SVW_subset_video_dataset\\\\running\\\\54___ed963024188f4f4486134848d1956137.mp4', total_frames=173, video_fps=30.0, time=0.004s\n",
      "INFO:root: Generated description: The video shows a person running on a concrete surface in front of a building with large garage doors. The runner is wearing a white shirt and red shorts, and they appear to be sprinting or jogging at a moderate pace. The background includes the building's exterior, which has a brick facade and green doors. The scene is likely set in an industrial or commercial area..\n",
      "\n"
     ]
    },
    {
     "data": {
      "application/vnd.jupyter.widget-view+json": {
       "model_id": "266bfc751b704169ad59adc682fccf7a",
       "version_major": 2,
       "version_minor": 0
      },
      "text/plain": [
       "Batches:   0%|          | 0/1 [00:00<?, ?it/s]"
      ]
     },
     "metadata": {},
     "output_type": "display_data"
    },
    {
     "name": "stderr",
     "output_type": "stream",
     "text": [
      "INFO:root: Added 54___ed963024188f4f4486134848d1956137.mp4 video file description to database\n",
      "\n",
      " ******\n",
      " 11%|████████▋                                                                      | 11/100 [12:18<1:34:20, 63.60s/it]INFO:root:\n",
      " Processing file 183___4fa2e7c4b2d0477abfde87856ef826fe.mp4 using Qwen 2.5 VL on Pytorch XPU..\n",
      "INFO:qwen_vl_utils.vision_process:decord:  video_path='SVW_subset_video_dataset\\\\bmx\\\\183___4fa2e7c4b2d0477abfde87856ef826fe.mp4', total_frames=163, video_fps=30.0, time=0.010s\n",
      "INFO:root: Generated description: The video shows a BMX rider performing a trick on a ramp. The rider is wearing a helmet and protective gear, and the bike has a red frame with white and black accents. The ramp is located in an outdoor setting, possibly a park or a skate park, with grassy areas and trees visible in the background. The rider is seen launching off the ramp and landing smoothly on the ground, demonstrating skill and control over the bike..\n",
      "\n"
     ]
    },
    {
     "data": {
      "application/vnd.jupyter.widget-view+json": {
       "model_id": "b02266c05dcd42bd963bb0327ef67fa1",
       "version_major": 2,
       "version_minor": 0
      },
      "text/plain": [
       "Batches:   0%|          | 0/1 [00:00<?, ?it/s]"
      ]
     },
     "metadata": {},
     "output_type": "display_data"
    },
    {
     "name": "stderr",
     "output_type": "stream",
     "text": [
      "INFO:root: Added 183___4fa2e7c4b2d0477abfde87856ef826fe.mp4 video file description to database\n",
      "\n",
      " ******\n",
      " 12%|█████████▍                                                                     | 12/100 [13:22<1:33:20, 63.65s/it]INFO:root:\n",
      " Processing file 65___01b43ab8e8d944d1b1c2c197314c5697.mp4 using Qwen 2.5 VL on Pytorch XPU..\n",
      "INFO:qwen_vl_utils.vision_process:decord:  video_path='SVW_subset_video_dataset\\\\skating\\\\65___01b43ab8e8d944d1b1c2c197314c5697.mp4', total_frames=348, video_fps=30.0, time=0.016s\n",
      "INFO:root: Generated description: The video captures an ice hockey game in a large, well-lit arena. The rink is surrounded by empty seats, indicating that the game might be either a practice session or a game with limited attendance. The ice surface is smooth and reflective, with visible markings for the playing area. The boards around the rink are adorned with advertisements and team logos, adding to the professional atmosphere of the venue. The lighting is bright, highlighting the players on the ice and the details of the arena's interior..\n",
      "\n"
     ]
    },
    {
     "data": {
      "application/vnd.jupyter.widget-view+json": {
       "model_id": "29a8a40228c64c58b23363664f1ea0f8",
       "version_major": 2,
       "version_minor": 0
      },
      "text/plain": [
       "Batches:   0%|          | 0/1 [00:00<?, ?it/s]"
      ]
     },
     "metadata": {},
     "output_type": "display_data"
    },
    {
     "name": "stderr",
     "output_type": "stream",
     "text": [
      "INFO:root: Added 65___01b43ab8e8d944d1b1c2c197314c5697.mp4 video file description to database\n",
      "\n",
      " ******\n",
      " 13%|██████████▎                                                                    | 13/100 [14:36<1:36:49, 66.78s/it]INFO:root:\n",
      " Processing file 738___fe4dc0b7124b45fbb6782475198eb8a4.mp4 using Qwen 2.5 VL on Pytorch XPU..\n",
      "INFO:qwen_vl_utils.vision_process:decord:  video_path='SVW_subset_video_dataset\\\\hurdling\\\\738___fe4dc0b7124b45fbb6782475198eb8a4.mp4', total_frames=765, video_fps=30.0, time=0.016s\n",
      "INFO:root: Generated description: The video shows a group of children participating in a hurdle race on a track and field. The children are running towards the hurdles, which are placed at intervals along the track. The hurdles are made of metal and have a rectangular shape with a bar across the top. The children are wearing athletic clothing and are running in a line. The track is made of red rubber and has white lines marking the lanes. There are also some people standing on the sidelines watching the race. The sky is overcast and there are trees in the background..\n",
      "\n"
     ]
    },
    {
     "data": {
      "application/vnd.jupyter.widget-view+json": {
       "model_id": "47e3a97e10ca42caa5dc0f35cb6bcc1a",
       "version_major": 2,
       "version_minor": 0
      },
      "text/plain": [
       "Batches:   0%|          | 0/1 [00:00<?, ?it/s]"
      ]
     },
     "metadata": {},
     "output_type": "display_data"
    },
    {
     "name": "stderr",
     "output_type": "stream",
     "text": [
      "INFO:root: Added 738___fe4dc0b7124b45fbb6782475198eb8a4.mp4 video file description to database\n",
      "\n",
      " ******\n",
      " 14%|███████████                                                                    | 14/100 [16:03<1:44:26, 72.87s/it]INFO:root:\n",
      " Processing file 26___d5f47b2d16c84967b39eb5ef9f5544d2.mp4 using Qwen 2.5 VL on Pytorch XPU..\n",
      "INFO:qwen_vl_utils.vision_process:decord:  video_path='SVW_subset_video_dataset\\\\baseball\\\\26___d5f47b2d16c84967b39eb5ef9f5544d2.mp4', total_frames=714, video_fps=30.0, time=0.016s\n",
      "INFO:root: Generated description: A young baseball player in a yellow jersey and red shorts stands at home plate, preparing to bat. He takes a few practice swings, adjusting his stance and grip on the bat. The camera captures his movements from behind the fence, showing the batting cage and the field beyond..\n",
      "\n"
     ]
    },
    {
     "data": {
      "application/vnd.jupyter.widget-view+json": {
       "model_id": "c3713059cb7d4793b14ac66ead905f1a",
       "version_major": 2,
       "version_minor": 0
      },
      "text/plain": [
       "Batches:   0%|          | 0/1 [00:00<?, ?it/s]"
      ]
     },
     "metadata": {},
     "output_type": "display_data"
    },
    {
     "name": "stderr",
     "output_type": "stream",
     "text": [
      "INFO:root: Added 26___d5f47b2d16c84967b39eb5ef9f5544d2.mp4 video file description to database\n",
      "\n",
      " ******\n",
      " 15%|███████████▊                                                                   | 15/100 [16:53<1:33:33, 66.04s/it]INFO:root:\n",
      " Processing file 632___151d0a1a2963444ab7a00a100a1e3e16.mp4 using Qwen 2.5 VL on Pytorch XPU..\n",
      "INFO:qwen_vl_utils.vision_process:decord:  video_path='SVW_subset_video_dataset\\\\wrestling\\\\632___151d0a1a2963444ab7a00a100a1e3e16.mp4', total_frames=287, video_fps=30.0, time=0.003s\n",
      "INFO:root: Generated description: The video shows a group of young athletes practicing on a basketball court. They are performing various exercises and drills, including crouching down and stretching their legs. The athletes appear to be focused and determined as they work on improving their skills. The video captures the energy and enthusiasm of the young athletes as they engage in their training routine..\n",
      "\n"
     ]
    },
    {
     "data": {
      "application/vnd.jupyter.widget-view+json": {
       "model_id": "e3a1a9154d07480da32177cfc8126f0f",
       "version_major": 2,
       "version_minor": 0
      },
      "text/plain": [
       "Batches:   0%|          | 0/1 [00:00<?, ?it/s]"
      ]
     },
     "metadata": {},
     "output_type": "display_data"
    },
    {
     "name": "stderr",
     "output_type": "stream",
     "text": [
      "INFO:root: Added 632___151d0a1a2963444ab7a00a100a1e3e16.mp4 video file description to database\n",
      "\n",
      " ******\n",
      " 16%|████████████▋                                                                  | 16/100 [17:44<1:26:17, 61.64s/it]INFO:root:\n",
      " Processing file 400___ec7ac61453fa4f929743f35478679998.mp4 using Qwen 2.5 VL on Pytorch XPU..\n",
      "INFO:qwen_vl_utils.vision_process:decord:  video_path='SVW_subset_video_dataset\\\\tennis\\\\400___ec7ac61453fa4f929743f35478679998.mp4', total_frames=394, video_fps=30.0, time=0.000s\n",
      "INFO:root: Generated description: A young man is practicing his tennis serve in an indoor court. He is wearing a white shirt and blue shorts, and he is holding a tennis racket in his right hand. He is standing on the left side of the court, facing the net. He is serving the ball with his right hand, and he is hitting it with a backhand stroke. The ball is flying through the air, and it is going towards the right side of the court. The young man is looking at the ball as it goes through the air..\n",
      "\n"
     ]
    },
    {
     "data": {
      "application/vnd.jupyter.widget-view+json": {
       "model_id": "6b0c8b4af96b4d30ae2cfc743a37488c",
       "version_major": 2,
       "version_minor": 0
      },
      "text/plain": [
       "Batches:   0%|          | 0/1 [00:00<?, ?it/s]"
      ]
     },
     "metadata": {},
     "output_type": "display_data"
    },
    {
     "name": "stderr",
     "output_type": "stream",
     "text": [
      "INFO:root: Added 400___ec7ac61453fa4f929743f35478679998.mp4 video file description to database\n",
      "\n",
      " ******\n",
      " 17%|█████████████▍                                                                 | 17/100 [19:06<1:33:29, 67.59s/it]INFO:root:\n",
      " Processing file 830___fa2d41b5ca104749bf8c83f175f37866.mp4 using Qwen 2.5 VL on Pytorch XPU..\n",
      "INFO:qwen_vl_utils.vision_process:decord:  video_path='SVW_subset_video_dataset\\\\discusthrow\\\\830___fa2d41b5ca104749bf8c83f175f37866.mp4', total_frames=345, video_fps=30.0, time=0.025s\n",
      "INFO:root: Generated description: A baseball player in a white uniform with red accents is pitching. He winds up and throws the ball towards home plate. The camera follows the ball as it travels through the air..\n",
      "\n"
     ]
    },
    {
     "data": {
      "application/vnd.jupyter.widget-view+json": {
       "model_id": "d1532bea6e284c8caf66f5bc1f32e542",
       "version_major": 2,
       "version_minor": 0
      },
      "text/plain": [
       "Batches:   0%|          | 0/1 [00:00<?, ?it/s]"
      ]
     },
     "metadata": {},
     "output_type": "display_data"
    },
    {
     "name": "stderr",
     "output_type": "stream",
     "text": [
      "INFO:root: Added 830___fa2d41b5ca104749bf8c83f175f37866.mp4 video file description to database\n",
      "\n",
      " ******\n",
      " 18%|██████████████▏                                                                | 18/100 [19:36<1:17:12, 56.50s/it]INFO:root:\n",
      " Processing file 217___db72bd8012dc4deba8361b8404881fd7.mp4 using Qwen 2.5 VL on Pytorch XPU..\n",
      "INFO:qwen_vl_utils.vision_process:decord:  video_path='SVW_subset_video_dataset\\\\diving\\\\217___db72bd8012dc4deba8361b8404881fd7.mp4', total_frames=265, video_fps=30.0, time=0.014s\n",
      "INFO:root: Generated description: The video captures an indoor swimming pool scene where a diver is preparing to jump off a diving board. The diver, wearing a blue swimsuit and a white helmet, stands on the diving board, which is positioned at the edge of the pool. The diving board is elevated above the water, and the diver appears to be getting ready for a dive. The pool area is well-lit, with overhead lights illuminating the scene. The background shows part of the pool deck and some equipment, indicating that this is likely a training or competition environment. The diver's posture suggests they are about to perform a dive, possibly a backflip or a.\n",
      "\n"
     ]
    },
    {
     "data": {
      "application/vnd.jupyter.widget-view+json": {
       "model_id": "348ef583ff5e455994ec026fd74bdcf2",
       "version_major": 2,
       "version_minor": 0
      },
      "text/plain": [
       "Batches:   0%|          | 0/1 [00:00<?, ?it/s]"
      ]
     },
     "metadata": {},
     "output_type": "display_data"
    },
    {
     "name": "stderr",
     "output_type": "stream",
     "text": [
      "INFO:root: Added 217___db72bd8012dc4deba8361b8404881fd7.mp4 video file description to database\n",
      "\n",
      " ******\n",
      " 19%|███████████████                                                                | 19/100 [21:07<1:30:05, 66.73s/it]INFO:root:\n",
      " Processing file 14___68fa5a5497184829831241b86fb68cb5.mp4 using Qwen 2.5 VL on Pytorch XPU..\n",
      "INFO:qwen_vl_utils.vision_process:decord:  video_path='SVW_subset_video_dataset\\\\rowing\\\\14___68fa5a5497184829831241b86fb68cb5.mp4', total_frames=218, video_fps=30.0, time=0.006s\n",
      "INFO:root: Generated description: The video shows two rowers in a boat, performing the sculling motion. They are using oars to propel themselves through the water. The rowers are seated on the boat and are actively engaged in the activity. The boat is moving forward as the rowers pull the oars back and forth. The water appears to be calm and the rowers are focused on their task..\n",
      "\n"
     ]
    },
    {
     "data": {
      "application/vnd.jupyter.widget-view+json": {
       "model_id": "6ad5174056fa41fdbc05bc4d7da2fed4",
       "version_major": 2,
       "version_minor": 0
      },
      "text/plain": [
       "Batches:   0%|          | 0/1 [00:00<?, ?it/s]"
      ]
     },
     "metadata": {},
     "output_type": "display_data"
    },
    {
     "name": "stderr",
     "output_type": "stream",
     "text": [
      "INFO:root: Added 14___68fa5a5497184829831241b86fb68cb5.mp4 video file description to database\n",
      "\n",
      " ******\n",
      " 20%|███████████████▊                                                               | 20/100 [22:03<1:24:32, 63.41s/it]INFO:root:\n",
      " Processing file 675___f7f5a5beab4d44e187710d144c21487e.mp4 using Qwen 2.5 VL on Pytorch XPU..\n",
      "INFO:qwen_vl_utils.vision_process:decord:  video_path='SVW_subset_video_dataset\\\\skiing\\\\675___f7f5a5beab4d44e187710d144c21487e.mp4', total_frames=452, video_fps=30.0, time=0.004s\n",
      "INFO:root: Generated description: The video shows a skier descending a snowy slope at night. The skier is wearing a red jacket and black pants, and they are skiing down the slope at a moderate speed. The slope is covered in snow, and there are trees on either side of the slope. The skier is skiing down the slope at a steady pace, and they are making small turns as they go. The video ends with the skier reaching the bottom of the slope..\n",
      "\n"
     ]
    },
    {
     "data": {
      "application/vnd.jupyter.widget-view+json": {
       "model_id": "f8b32664ee7d48f0a6086ac35449f534",
       "version_major": 2,
       "version_minor": 0
      },
      "text/plain": [
       "Batches:   0%|          | 0/1 [00:00<?, ?it/s]"
      ]
     },
     "metadata": {},
     "output_type": "display_data"
    },
    {
     "name": "stderr",
     "output_type": "stream",
     "text": [
      "INFO:root: Added 675___f7f5a5beab4d44e187710d144c21487e.mp4 video file description to database\n",
      "\n",
      " ******\n",
      " 21%|████████████████▌                                                              | 21/100 [23:14<1:26:49, 65.94s/it]INFO:root:\n",
      " Processing file 21___f257ea56e1124574a038c4dcdafe5d9b.mp4 using Qwen 2.5 VL on Pytorch XPU..\n",
      "INFO:qwen_vl_utils.vision_process:decord:  video_path='SVW_subset_video_dataset\\\\swimming\\\\21___f257ea56e1124574a038c4dcdafe5d9b.mp4', total_frames=633, video_fps=30.0, time=0.015s\n",
      "INFO:root: Generated description: The video captures a swimmer performing the butterfly stroke in a pool. The swimmer is moving through the water with their arms extended outwards and their legs kicking in a flutter kick. The swimmer's body is arched, and they are using their arms to propel themselves forward while their legs are working together to create a powerful kick. The swimmer is swimming in a lane marked by blue and white lane dividers. The swimmer is wearing a swimsuit and appears to be focused on their form as they swim..\n",
      "\n"
     ]
    },
    {
     "data": {
      "application/vnd.jupyter.widget-view+json": {
       "model_id": "063777402d9d44a980c7a08918adcd85",
       "version_major": 2,
       "version_minor": 0
      },
      "text/plain": [
       "Batches:   0%|          | 0/1 [00:00<?, ?it/s]"
      ]
     },
     "metadata": {},
     "output_type": "display_data"
    },
    {
     "name": "stderr",
     "output_type": "stream",
     "text": [
      "INFO:root: Added 21___f257ea56e1124574a038c4dcdafe5d9b.mp4 video file description to database\n",
      "\n",
      " ******\n",
      " 22%|█████████████████▍                                                             | 22/100 [24:34<1:31:01, 70.02s/it]INFO:root:\n",
      " Processing file 513___b52a9f4f9ce6464090506d26a867fc46.mp4 using Qwen 2.5 VL on Pytorch XPU..\n",
      "INFO:qwen_vl_utils.vision_process:decord:  video_path='SVW_subset_video_dataset\\\\shotput\\\\513___b52a9f4f9ce6464090506d26a867fc46.mp4', total_frames=150, video_fps=30.0, time=0.006s\n",
      "INFO:root: Generated description: The video shows a group of people playing a game of croquet on a grassy field. The players are standing in a line, each holding a mallet and preparing to hit the balls. The balls are placed on the ground in front of them, and they are about to take their turns hitting the balls through the hoops. The players are all wearing casual clothing and seem to be enjoying themselves. The field is surrounded by trees and there is a clear blue sky above..\n",
      "\n"
     ]
    },
    {
     "data": {
      "application/vnd.jupyter.widget-view+json": {
       "model_id": "65560cf4ba014aceac37f8f0d210a0e3",
       "version_major": 2,
       "version_minor": 0
      },
      "text/plain": [
       "Batches:   0%|          | 0/1 [00:00<?, ?it/s]"
      ]
     },
     "metadata": {},
     "output_type": "display_data"
    },
    {
     "name": "stderr",
     "output_type": "stream",
     "text": [
      "INFO:root: Added 513___b52a9f4f9ce6464090506d26a867fc46.mp4 video file description to database\n",
      "\n",
      " ******\n",
      " 23%|██████████████████▏                                                            | 23/100 [25:41<1:28:50, 69.22s/it]INFO:root:\n",
      " Processing file 353___33dbb6606d2c49e39e9c412c476c0a41.mp4 using Qwen 2.5 VL on Pytorch XPU..\n",
      "INFO:qwen_vl_utils.vision_process:decord:  video_path='SVW_subset_video_dataset\\\\discusthrow\\\\353___33dbb6606d2c49e39e9c412c476c0a41.mp4', total_frames=295, video_fps=30.0, time=0.004s\n",
      "INFO:root: Generated description: A man is performing a sport called hammer throw, which involves throwing a heavy metal ball attached to a wire and handle. He is standing on a platform with his back to the camera, holding the hammer in his right hand. He swings the hammer around his head several times before releasing it. The hammer flies through the air and lands on the ground..\n",
      "\n"
     ]
    },
    {
     "data": {
      "application/vnd.jupyter.widget-view+json": {
       "model_id": "984c66ab42c2471885bec2b04a2c099a",
       "version_major": 2,
       "version_minor": 0
      },
      "text/plain": [
       "Batches:   0%|          | 0/1 [00:00<?, ?it/s]"
      ]
     },
     "metadata": {},
     "output_type": "display_data"
    },
    {
     "name": "stderr",
     "output_type": "stream",
     "text": [
      "INFO:root: Added 353___33dbb6606d2c49e39e9c412c476c0a41.mp4 video file description to database\n",
      "\n",
      " ******\n",
      " 24%|██████████████████▉                                                            | 24/100 [26:32<1:20:26, 63.51s/it]INFO:root:\n",
      " Processing file 629___de9685dd7c0d46769232051fb3a5d151.mp4 using Qwen 2.5 VL on Pytorch XPU..\n",
      "INFO:qwen_vl_utils.vision_process:decord:  video_path='SVW_subset_video_dataset\\\\tennis\\\\629___de9685dd7c0d46769232051fb3a5d151.mp4', total_frames=596, video_fps=30.0, time=0.015s\n",
      "INFO:root: Generated description: Two young men are playing tennis on an outdoor court. One man is serving the ball, while the other man is waiting to return it. The man who is serving is wearing a white shirt and black shorts, while the man who is waiting to return the ball is wearing a pink shirt and black shorts. The court is surrounded by a fence, and there is a brick building in the background. The sky is clear and blue, indicating that it is a sunny day..\n",
      "\n"
     ]
    },
    {
     "data": {
      "application/vnd.jupyter.widget-view+json": {
       "model_id": "a9ef615c1f5e47af96a72666c1f509ab",
       "version_major": 2,
       "version_minor": 0
      },
      "text/plain": [
       "Batches:   0%|          | 0/1 [00:00<?, ?it/s]"
      ]
     },
     "metadata": {},
     "output_type": "display_data"
    },
    {
     "name": "stderr",
     "output_type": "stream",
     "text": [
      "INFO:root: Added 629___de9685dd7c0d46769232051fb3a5d151.mp4 video file description to database\n",
      "\n",
      " ******\n",
      " 25%|███████████████████▊                                                           | 25/100 [27:43<1:22:15, 65.80s/it]INFO:root:\n",
      " Processing file 475___701f4379f9e24a5894976fab1922d34e.mp4 using Qwen 2.5 VL on Pytorch XPU..\n",
      "INFO:qwen_vl_utils.vision_process:decord:  video_path='SVW_subset_video_dataset\\\\hurdling\\\\475___701f4379f9e24a5894976fab1922d34e.mp4', total_frames=222, video_fps=30.0, time=0.008s\n",
      "INFO:root: Generated description: The video captures an indoor track and field event, likely a relay race or a timed obstacle course. The setting is an indoor athletic facility with a red running track. Several athletes are participating in the event, each running through a series of colorful rectangular obstacles placed at intervals along the track. The obstacles are yellow, blue, and green, and they appear to be designed for speed and agility training.\n",
      "\n",
      "The athletes are wearing athletic gear suitable for running, including shorts and t-shirts. They are focused on their performance, demonstrating good form and speed as they navigate the course. The background includes other participants and possibly coaches or officials, indicating that this is.\n",
      "\n"
     ]
    },
    {
     "data": {
      "application/vnd.jupyter.widget-view+json": {
       "model_id": "1ea5d1a7ad12486d8537a7974998abe2",
       "version_major": 2,
       "version_minor": 0
      },
      "text/plain": [
       "Batches:   0%|          | 0/1 [00:00<?, ?it/s]"
      ]
     },
     "metadata": {},
     "output_type": "display_data"
    },
    {
     "name": "stderr",
     "output_type": "stream",
     "text": [
      "INFO:root: Added 475___701f4379f9e24a5894976fab1922d34e.mp4 video file description to database\n",
      "\n",
      " ******\n",
      " 26%|████████████████████▌                                                          | 26/100 [29:12<1:29:43, 72.75s/it]INFO:root:\n",
      " Processing file 99___41058ebcf2d044d0b268f96779acfe94.mp4 using Qwen 2.5 VL on Pytorch XPU..\n",
      "INFO:qwen_vl_utils.vision_process:decord:  video_path='SVW_subset_video_dataset\\\\volleyball\\\\99___41058ebcf2d044d0b268f96779acfe94.mp4', total_frames=188, video_fps=30.0, time=0.005s\n",
      "INFO:root: Generated description: The video captures an intense volleyball match in a gymnasium. The players, dressed in green and black uniforms, are actively engaged in the game. The team in green appears to be on the offensive, with one player preparing to spike the ball while her teammates position themselves for support. The opposing team, wearing black, is ready to defend. The gymnasium has a high ceiling with visible structural beams and a yellow and white striped wall. The lighting is bright, illuminating the court and the players' movements. The atmosphere is energetic, with the crowd likely cheering on their respective teams..\n",
      "\n"
     ]
    },
    {
     "data": {
      "application/vnd.jupyter.widget-view+json": {
       "model_id": "2b7d2c6393fe4fc89085c18abadfee09",
       "version_major": 2,
       "version_minor": 0
      },
      "text/plain": [
       "Batches:   0%|          | 0/1 [00:00<?, ?it/s]"
      ]
     },
     "metadata": {},
     "output_type": "display_data"
    },
    {
     "name": "stderr",
     "output_type": "stream",
     "text": [
      "INFO:root: Added 99___41058ebcf2d044d0b268f96779acfe94.mp4 video file description to database\n",
      "\n",
      " ******\n",
      " 27%|█████████████████████▎                                                         | 27/100 [30:35<1:32:30, 76.03s/it]INFO:root:\n",
      " Processing file 4___3e61b02bd5184494aa4690d0670dbb11.mp4 using Qwen 2.5 VL on Pytorch XPU..\n",
      "INFO:qwen_vl_utils.vision_process:decord:  video_path='SVW_subset_video_dataset\\\\javelin\\\\4___3e61b02bd5184494aa4690d0670dbb11.mp4', total_frames=109, video_fps=30.0, time=0.005s\n",
      "INFO:root: Generated description: The video captures a dynamic scene of a track and field event, specifically focusing on the pole vaulting activity. The setting is an outdoor track and field stadium, characterized by its red running track and green grass infield. The background features various banners and advertisements, indicating sponsorship or local support for the event.\n",
      "\n",
      "In the foreground, there are two individuals engaged in the pole vaulting activity. One person, likely the athlete, is in the process of launching off the ground with a pole vault pole. This individual is wearing a red jacket and dark pants, and their body is angled forward, demonstrating the initial phase of the jump. The other person,.\n",
      "\n"
     ]
    },
    {
     "data": {
      "application/vnd.jupyter.widget-view+json": {
       "model_id": "be0fde0e35f54ec1b38dcec54676d659",
       "version_major": 2,
       "version_minor": 0
      },
      "text/plain": [
       "Batches:   0%|          | 0/1 [00:00<?, ?it/s]"
      ]
     },
     "metadata": {},
     "output_type": "display_data"
    },
    {
     "name": "stderr",
     "output_type": "stream",
     "text": [
      "INFO:root: Added 4___3e61b02bd5184494aa4690d0670dbb11.mp4 video file description to database\n",
      "\n",
      " ******\n",
      " 28%|██████████████████████                                                         | 28/100 [32:04<1:35:57, 79.96s/it]INFO:root:\n",
      " Processing file 62___6f39d043fa7a41d780b129d9bceb66cc.mp4 using Qwen 2.5 VL on Pytorch XPU..\n",
      "INFO:qwen_vl_utils.vision_process:decord:  video_path='SVW_subset_video_dataset\\\\weight\\\\62___6f39d043fa7a41d780b129d9bceb66cc.mp4', total_frames=824, video_fps=30.0, time=0.011s\n",
      "INFO:root: Generated description: A woman in a red shirt and black leggings is lifting a barbell in a gym. She bends down, lifts the barbell up to her shoulders, and then lifts it over her head. She holds the barbell overhead for a moment before lowering it back down to her shoulders. She repeats this movement several times..\n",
      "\n"
     ]
    },
    {
     "data": {
      "application/vnd.jupyter.widget-view+json": {
       "model_id": "d72b5081c0484a429f469aab55123af3",
       "version_major": 2,
       "version_minor": 0
      },
      "text/plain": [
       "Batches:   0%|          | 0/1 [00:00<?, ?it/s]"
      ]
     },
     "metadata": {},
     "output_type": "display_data"
    },
    {
     "name": "stderr",
     "output_type": "stream",
     "text": [
      "INFO:root: Added 62___6f39d043fa7a41d780b129d9bceb66cc.mp4 video file description to database\n",
      "\n",
      " ******\n",
      " 29%|██████████████████████▉                                                        | 29/100 [33:01<1:26:15, 72.89s/it]INFO:root:\n",
      " Processing file 235___ac6a72dc95e64a1da239285b073985b8.mp4 using Qwen 2.5 VL on Pytorch XPU..\n",
      "INFO:qwen_vl_utils.vision_process:decord:  video_path='SVW_subset_video_dataset\\\\archery\\\\235___ac6a72dc95e64a1da239285b073985b8.mp4', total_frames=366, video_fps=30.0, time=0.008s\n",
      "INFO:root: Generated description: A person is practicing archery in an outdoor setting. They are holding a bow and arrow, aiming at a target. The person is wearing a black jacket, blue jeans, and gloves. The background shows a grassy area with trees and a building. The person takes several shots, adjusting their aim and stance as they go..\n",
      "\n"
     ]
    },
    {
     "data": {
      "application/vnd.jupyter.widget-view+json": {
       "model_id": "6cd10e3aad744efdb8f6b5452c744284",
       "version_major": 2,
       "version_minor": 0
      },
      "text/plain": [
       "Batches:   0%|          | 0/1 [00:00<?, ?it/s]"
      ]
     },
     "metadata": {},
     "output_type": "display_data"
    },
    {
     "name": "stderr",
     "output_type": "stream",
     "text": [
      "INFO:root: Added 235___ac6a72dc95e64a1da239285b073985b8.mp4 video file description to database\n",
      "\n",
      " ******\n",
      " 30%|███████████████████████▋                                                       | 30/100 [33:50<1:16:46, 65.80s/it]INFO:root:\n",
      " Processing file 571___6538518177a846e98dfc735961500455.mp4 using Qwen 2.5 VL on Pytorch XPU..\n",
      "INFO:qwen_vl_utils.vision_process:decord:  video_path='SVW_subset_video_dataset\\\\boxing\\\\571___6538518177a846e98dfc735961500455.mp4', total_frames=964, video_fps=30.0, time=0.015s\n",
      "INFO:root: Generated description: Two boxers are sparring in a boxing ring. They are both wearing blue shorts and white gloves. The boxer on the left is throwing a punch at the boxer on the right, who is dodging and weaving to avoid it. The referee is standing in the corner of the ring, watching the action closely. There are several spectators in the background, watching the fight..\n",
      "\n"
     ]
    },
    {
     "data": {
      "application/vnd.jupyter.widget-view+json": {
       "model_id": "bd6ff2a9e8b44bc99023351f06109884",
       "version_major": 2,
       "version_minor": 0
      },
      "text/plain": [
       "Batches:   0%|          | 0/1 [00:00<?, ?it/s]"
      ]
     },
     "metadata": {},
     "output_type": "display_data"
    },
    {
     "name": "stderr",
     "output_type": "stream",
     "text": [
      "INFO:root: Added 571___6538518177a846e98dfc735961500455.mp4 video file description to database\n",
      "\n",
      " ******\n",
      " 31%|████████████████████████▍                                                      | 31/100 [34:58<1:16:27, 66.48s/it]INFO:root:\n",
      " Processing file 106___a9aa810332d34e0ca94d29b235b894d6.mp4 using Qwen 2.5 VL on Pytorch XPU..\n",
      "INFO:qwen_vl_utils.vision_process:decord:  video_path='SVW_subset_video_dataset\\\\volleyball\\\\106___a9aa810332d34e0ca94d29b235b894d6.mp4', total_frames=101, video_fps=30.0, time=0.004s\n",
      "INFO:root: Generated description: The video shows an indoor volleyball game in a gymnasium. The court is divided by a net, and there are two teams playing against each other. One team is wearing white uniforms, while the other team is wearing blue. The players are actively engaged in the game, with one player from the blue team preparing to serve the ball. The gymnasium has a high ceiling with exposed beams and large windows allowing natural light to enter. There are also American flags hanging on the walls. The atmosphere appears to be competitive and energetic..\n",
      "\n"
     ]
    },
    {
     "data": {
      "application/vnd.jupyter.widget-view+json": {
       "model_id": "b395faccbe6046359a44e4fa60e27ada",
       "version_major": 2,
       "version_minor": 0
      },
      "text/plain": [
       "Batches:   0%|          | 0/1 [00:00<?, ?it/s]"
      ]
     },
     "metadata": {},
     "output_type": "display_data"
    },
    {
     "name": "stderr",
     "output_type": "stream",
     "text": [
      "INFO:root: Added 106___a9aa810332d34e0ca94d29b235b894d6.mp4 video file description to database\n",
      "\n",
      " ******\n",
      " 32%|█████████████████████████▎                                                     | 32/100 [36:14<1:18:25, 69.20s/it]INFO:root:\n",
      " Processing file 547___35ee9e3b64b64971bfef9cfdcbe41c02.mp4 using Qwen 2.5 VL on Pytorch XPU..\n",
      "INFO:qwen_vl_utils.vision_process:decord:  video_path='SVW_subset_video_dataset\\\\hammerthrow\\\\547___35ee9e3b64b64971bfef9cfdcbe41c02.mp4', total_frames=273, video_fps=30.0, time=0.009s\n",
      "INFO:root: Generated description: The video shows an athlete performing a hammer throw in a netted throwing area. The athlete is wearing a green and white uniform, black shorts, and red shoes. They are standing on the ground with their feet shoulder-width apart, holding the hammer in their right hand. The athlete then begins to spin around, building momentum, and releases the hammer into the air. The hammer flies through the air and lands in the netted area. The athlete then walks away from the netted area..\n",
      "\n"
     ]
    },
    {
     "data": {
      "application/vnd.jupyter.widget-view+json": {
       "model_id": "7971ad9a735f45bd938a1035a6bbc1ff",
       "version_major": 2,
       "version_minor": 0
      },
      "text/plain": [
       "Batches:   0%|          | 0/1 [00:00<?, ?it/s]"
      ]
     },
     "metadata": {},
     "output_type": "display_data"
    },
    {
     "name": "stderr",
     "output_type": "stream",
     "text": [
      "INFO:root: Added 547___35ee9e3b64b64971bfef9cfdcbe41c02.mp4 video file description to database\n",
      "\n",
      " ******\n",
      " 33%|██████████████████████████                                                     | 33/100 [37:23<1:17:20, 69.25s/it]INFO:root:\n",
      " Processing file 168___22083b811c444f438c4e8dc464b28278.mp4 using Qwen 2.5 VL on Pytorch XPU..\n",
      "INFO:qwen_vl_utils.vision_process:decord:  video_path='SVW_subset_video_dataset\\\\soccer\\\\168___22083b811c444f438c4e8dc464b28278.mp4', total_frames=67, video_fps=30.0, time=0.004s\n",
      "INFO:root: Generated description: The video shows a person standing on an indoor soccer field, preparing to take a penalty kick. The player is positioned near the penalty spot, with their feet planted firmly on the grass. They are wearing a black shirt and shorts, and appear to be focused on the ball. In the background, there are other people sitting on the sidelines, likely teammates or coaches. The lighting in the arena is bright, illuminating the field clearly. The player takes a few steps back, then runs towards the ball and kicks it. The ball flies through the air, heading towards the goal..\n",
      "\n"
     ]
    },
    {
     "data": {
      "application/vnd.jupyter.widget-view+json": {
       "model_id": "8c5f36bbbc244973b9a93de6731df1a3",
       "version_major": 2,
       "version_minor": 0
      },
      "text/plain": [
       "Batches:   0%|          | 0/1 [00:00<?, ?it/s]"
      ]
     },
     "metadata": {},
     "output_type": "display_data"
    },
    {
     "name": "stderr",
     "output_type": "stream",
     "text": [
      "INFO:root: Added 168___22083b811c444f438c4e8dc464b28278.mp4 video file description to database\n",
      "\n",
      " ******\n",
      " 34%|██████████████████████████▊                                                    | 34/100 [38:45<1:20:15, 72.97s/it]INFO:root:\n",
      " Processing file 1566___8c414ed34bf849868634a9eba5c06894.mp4 using Qwen 2.5 VL on Pytorch XPU..\n",
      "INFO:qwen_vl_utils.vision_process:decord:  video_path='SVW_subset_video_dataset\\\\boxing\\\\1566___8c414ed34bf849868634a9eba5c06894.mp4', total_frames=1054, video_fps=30.0, time=0.020s\n",
      "INFO:root: Generated description: Two boxers are in the ring, facing each other. The boxer on the left is wearing blue shorts and white gloves, while the boxer on the right is wearing black shorts and red gloves. The referee is standing between them, watching the fight. The boxer on the left throws a punch at the boxer on the right, who ducks out of the way. The boxer on the left then throws another punch, which the boxer on the right blocks with his gloved hand. The boxer on the left then throws a third punch, which the boxer on the right blocks with his gloved hand. The boxer on the left then throws a fourth.\n",
      "\n"
     ]
    },
    {
     "data": {
      "application/vnd.jupyter.widget-view+json": {
       "model_id": "468dd285454c49558c65ba125e500b18",
       "version_major": 2,
       "version_minor": 0
      },
      "text/plain": [
       "Batches:   0%|          | 0/1 [00:00<?, ?it/s]"
      ]
     },
     "metadata": {},
     "output_type": "display_data"
    },
    {
     "name": "stderr",
     "output_type": "stream",
     "text": [
      "INFO:root: Added 1566___8c414ed34bf849868634a9eba5c06894.mp4 video file description to database\n",
      "\n",
      " ******\n",
      " 35%|███████████████████████████▋                                                   | 35/100 [40:34<1:30:51, 83.87s/it]INFO:root:\n",
      " Processing file 45___bf93e68d23d34954ac19ba95db0c97e0.mp4 using Qwen 2.5 VL on Pytorch XPU..\n",
      "INFO:qwen_vl_utils.vision_process:decord:  video_path='SVW_subset_video_dataset\\\\soccer\\\\45___bf93e68d23d34954ac19ba95db0c97e0.mp4', total_frames=130, video_fps=30.0, time=0.006s\n",
      "INFO:root: Generated description: The video shows two individuals standing on a grassy field, preparing to play soccer. One person is wearing a white shirt and black shorts, while the other is dressed in a similar outfit. They appear to be getting ready for a game or practice session. The background features a clear sky and some trees, indicating an outdoor setting..\n",
      "\n"
     ]
    },
    {
     "data": {
      "application/vnd.jupyter.widget-view+json": {
       "model_id": "52642a2e08234641a1d5f7a843415fda",
       "version_major": 2,
       "version_minor": 0
      },
      "text/plain": [
       "Batches:   0%|          | 0/1 [00:00<?, ?it/s]"
      ]
     },
     "metadata": {},
     "output_type": "display_data"
    },
    {
     "name": "stderr",
     "output_type": "stream",
     "text": [
      "INFO:root: Added 45___bf93e68d23d34954ac19ba95db0c97e0.mp4 video file description to database\n",
      "\n",
      " ******\n",
      " 36%|████████████████████████████▍                                                  | 36/100 [41:22<1:18:01, 73.15s/it]INFO:root:\n",
      " Processing file 106___0205f35e2fad42b1bd11ef4aefb22670.mp4 using Qwen 2.5 VL on Pytorch XPU..\n",
      "INFO:qwen_vl_utils.vision_process:decord:  video_path='SVW_subset_video_dataset\\\\running\\\\106___0205f35e2fad42b1bd11ef4aefb22670.mp4', total_frames=218, video_fps=30.0, time=0.008s\n",
      "INFO:root: Generated description: The video shows two young girls running and playing in a grassy area. They appear to be enjoying themselves, with one girl wearing a yellow shirt and the other wearing a white shirt. The background includes trees and parked cars, suggesting they are in a park or similar outdoor setting. The overall atmosphere is playful and energetic..\n",
      "\n"
     ]
    },
    {
     "data": {
      "application/vnd.jupyter.widget-view+json": {
       "model_id": "3cdfa30d18b64c40af203269749575c9",
       "version_major": 2,
       "version_minor": 0
      },
      "text/plain": [
       "Batches:   0%|          | 0/1 [00:00<?, ?it/s]"
      ]
     },
     "metadata": {},
     "output_type": "display_data"
    },
    {
     "name": "stderr",
     "output_type": "stream",
     "text": [
      "INFO:root: Added 106___0205f35e2fad42b1bd11ef4aefb22670.mp4 video file description to database\n",
      "\n",
      " ******\n",
      " 37%|█████████████████████████████▏                                                 | 37/100 [42:09<1:08:29, 65.22s/it]INFO:root:\n",
      " Processing file 5___10649b879e334cf9a517a0c6aeb85931.mp4 using Qwen 2.5 VL on Pytorch XPU..\n",
      "INFO:qwen_vl_utils.vision_process:decord:  video_path='SVW_subset_video_dataset\\\\baseball\\\\5___10649b879e334cf9a517a0c6aeb85931.mp4', total_frames=121, video_fps=30.0, time=0.005s\n",
      "INFO:root: Generated description: The video captures a moment from a baseball game, focusing on a batter in the middle of his swing. The batter is dressed in a black and orange uniform with white pants and black shoes. He is holding a bat and appears to be in the process of hitting a ball. His stance is wide, with knees bent and weight shifted forward, indicating a powerful swing. \n",
      "\n",
      "In the background, there is a catcher crouched behind the batter, wearing a black uniform with a blue helmet and a chest protector. The catcher's mitt is open, ready to catch the ball if the batter misses. The catcher's position suggests he is anticipating the.\n",
      "\n"
     ]
    },
    {
     "data": {
      "application/vnd.jupyter.widget-view+json": {
       "model_id": "f0f281df5e8741ca85480ae35e8a59d7",
       "version_major": 2,
       "version_minor": 0
      },
      "text/plain": [
       "Batches:   0%|          | 0/1 [00:00<?, ?it/s]"
      ]
     },
     "metadata": {},
     "output_type": "display_data"
    },
    {
     "name": "stderr",
     "output_type": "stream",
     "text": [
      "INFO:root: Added 5___10649b879e334cf9a517a0c6aeb85931.mp4 video file description to database\n",
      "\n",
      " ******\n",
      " 38%|██████████████████████████████                                                 | 38/100 [43:38<1:14:56, 72.52s/it]INFO:root:\n",
      " Processing file 33___7792b418db734dde9d238778a0f1f27c.mp4 using Qwen 2.5 VL on Pytorch XPU..\n",
      "INFO:qwen_vl_utils.vision_process:decord:  video_path='SVW_subset_video_dataset\\\\baseball\\\\33___7792b418db734dde9d238778a0f1f27c.mp4', total_frames=158, video_fps=30.0, time=0.004s\n",
      "INFO:root: Generated description: The video captures a baseball game in progress, with the pitcher on the mound preparing to throw the ball. The batter is standing at home plate, ready to swing. The catcher and umpire are positioned behind the batter, and the infielders are spread out around the diamond. The outfielders are in their positions, watching the play unfold. The crowd in the stands is cheering and clapping, creating an energetic atmosphere..\n",
      "\n"
     ]
    },
    {
     "data": {
      "application/vnd.jupyter.widget-view+json": {
       "model_id": "30eefea99506479eb14d48e91fd7d84a",
       "version_major": 2,
       "version_minor": 0
      },
      "text/plain": [
       "Batches:   0%|          | 0/1 [00:00<?, ?it/s]"
      ]
     },
     "metadata": {},
     "output_type": "display_data"
    },
    {
     "name": "stderr",
     "output_type": "stream",
     "text": [
      "INFO:root: Added 33___7792b418db734dde9d238778a0f1f27c.mp4 video file description to database\n",
      "\n",
      " ******\n",
      " 39%|██████████████████████████████▊                                                | 39/100 [44:38<1:09:54, 68.76s/it]INFO:root:\n",
      " Processing file 243___cf71bdaa7d2a4608923d7e2663f26f97.mp4 using Qwen 2.5 VL on Pytorch XPU..\n",
      "INFO:qwen_vl_utils.vision_process:decord:  video_path='SVW_subset_video_dataset\\\\cheerleading\\\\243___cf71bdaa7d2a4608923d7e2663f26f97.mp4', total_frames=567, video_fps=30.0, time=0.009s\n",
      "INFO:root: Generated description: A group of cheerleaders perform a pyramid stunt in a grassy field. They lift one girl up to the top, then another, and finally a third. The girls at the bottom hold their hands up in the air as they support the girls on top. The girls at the top hold onto each other's shoulders for balance. The girls at the bottom are wearing black shirts and green shorts, while the girls at the top are wearing white shirts and black shorts. The background shows a building with windows..\n",
      "\n"
     ]
    },
    {
     "data": {
      "application/vnd.jupyter.widget-view+json": {
       "model_id": "d669e50cbe67452e89cdb2957bf6fd4a",
       "version_major": 2,
       "version_minor": 0
      },
      "text/plain": [
       "Batches:   0%|          | 0/1 [00:00<?, ?it/s]"
      ]
     },
     "metadata": {},
     "output_type": "display_data"
    },
    {
     "name": "stderr",
     "output_type": "stream",
     "text": [
      "INFO:root: Added 243___cf71bdaa7d2a4608923d7e2663f26f97.mp4 video file description to database\n",
      "\n",
      " ******\n",
      " 40%|███████████████████████████████▌                                               | 40/100 [45:55<1:11:13, 71.22s/it]INFO:root:\n",
      " Processing file 44___363a88fc53834cea9c29cc59c8e26204.mp4 using Qwen 2.5 VL on Pytorch XPU..\n",
      "INFO:qwen_vl_utils.vision_process:decord:  video_path='SVW_subset_video_dataset\\\\polevault\\\\44___363a88fc53834cea9c29cc59c8e26204.mp4', total_frames=500, video_fps=30.0, time=0.008s\n",
      "INFO:root: Generated description: A young man in a red shirt and black shorts is standing on a red track and field track, preparing to throw a javelin. He takes a few steps back, then runs forward, building up speed. He swings his arm back behind him, then throws the javelin with all his might. The javelin flies through the air, soaring over the bar that marks the end of the track..\n",
      "\n"
     ]
    },
    {
     "data": {
      "application/vnd.jupyter.widget-view+json": {
       "model_id": "a030ecbb30c44e9b94dac2323df27aa4",
       "version_major": 2,
       "version_minor": 0
      },
      "text/plain": [
       "Batches:   0%|          | 0/1 [00:00<?, ?it/s]"
      ]
     },
     "metadata": {},
     "output_type": "display_data"
    },
    {
     "name": "stderr",
     "output_type": "stream",
     "text": [
      "INFO:root: Added 44___363a88fc53834cea9c29cc59c8e26204.mp4 video file description to database\n",
      "\n",
      " ******\n",
      " 41%|████████████████████████████████▍                                              | 41/100 [46:57<1:07:05, 68.23s/it]INFO:root:\n",
      " Processing file 110___23da3be84d284c97aefdf2e8d00053f0.mp4 using Qwen 2.5 VL on Pytorch XPU..\n",
      "INFO:qwen_vl_utils.vision_process:decord:  video_path='SVW_subset_video_dataset\\\\cheerleading\\\\110___23da3be84d284c97aefdf2e8d00053f0.mp4', total_frames=67, video_fps=30.0, time=0.005s\n",
      "INFO:root: Generated description: The video captures an athlete performing a high-flying gymnastics routine on a trampoline. The athlete, dressed in a black leotard and pink headband, leaps off the trampoline with arms outstretched, executing a series of flips and twists in mid-air. The trampoline is set up indoors, likely in a gym or training facility, with blue padding visible beneath the athlete. The background shows other gymnasts and equipment, indicating a competitive or practice environment. The athlete's movements are fluid and precise, demonstrating skill and athleticism..\n",
      "\n"
     ]
    },
    {
     "data": {
      "application/vnd.jupyter.widget-view+json": {
       "model_id": "88d36d14ac90467895c1175ee90a9d7f",
       "version_major": 2,
       "version_minor": 0
      },
      "text/plain": [
       "Batches:   0%|          | 0/1 [00:00<?, ?it/s]"
      ]
     },
     "metadata": {},
     "output_type": "display_data"
    },
    {
     "name": "stderr",
     "output_type": "stream",
     "text": [
      "INFO:root: Added 110___23da3be84d284c97aefdf2e8d00053f0.mp4 video file description to database\n",
      "\n",
      " ******\n",
      " 42%|█████████████████████████████████▏                                             | 42/100 [48:14<1:08:40, 71.05s/it]INFO:root:\n",
      " Processing file 137___e6fffd316d8741eba910d7c4bb039ae4.mp4 using Qwen 2.5 VL on Pytorch XPU..\n",
      "INFO:qwen_vl_utils.vision_process:decord:  video_path='SVW_subset_video_dataset\\\\running\\\\137___e6fffd316d8741eba910d7c4bb039ae4.mp4', total_frames=199, video_fps=30.0, time=0.009s\n",
      "INFO:root: Generated description: The video captures a dynamic scene on an outdoor track and field stadium. The setting is a well-maintained athletic facility with a running track, a grassy area, and a few buildings in the background. The sky appears to be overcast, suggesting it might be a cool or cloudy day.\n",
      "\n",
      "In the foreground, there is a person running on the track. This individual is wearing a blue tracksuit and seems to be in motion, possibly participating in a race or training session. The runner's posture indicates they are focused and determined, likely aiming for speed and endurance.\n",
      "\n",
      "The background features several elements typical of a stadium. There are empty.\n",
      "\n"
     ]
    },
    {
     "data": {
      "application/vnd.jupyter.widget-view+json": {
       "model_id": "25ee77780cbd454a890f37a25144abeb",
       "version_major": 2,
       "version_minor": 0
      },
      "text/plain": [
       "Batches:   0%|          | 0/1 [00:00<?, ?it/s]"
      ]
     },
     "metadata": {},
     "output_type": "display_data"
    },
    {
     "name": "stderr",
     "output_type": "stream",
     "text": [
      "INFO:root: Added 137___e6fffd316d8741eba910d7c4bb039ae4.mp4 video file description to database\n",
      "\n",
      " ******\n",
      " 43%|█████████████████████████████████▉                                             | 43/100 [49:44<1:12:52, 76.71s/it]INFO:root:\n",
      " Processing file 103___7a39f6ae79a648be9eacd68a65a96aa5.mp4 using Qwen 2.5 VL on Pytorch XPU..\n",
      "INFO:qwen_vl_utils.vision_process:decord:  video_path='SVW_subset_video_dataset\\\\longjump\\\\103___7a39f6ae79a648be9eacd68a65a96aa5.mp4', total_frames=144, video_fps=30.0, time=0.007s\n",
      "INFO:root: Generated description: The video captures a track and field event, specifically a long jump competition. The scene is set on an outdoor track with a sandy pit for the long jump. In the foreground, there is a young athlete dressed in a yellow shirt and black shorts, preparing to take off from the starting block. He is positioned at the beginning of the track, ready to sprint towards the long jump area.\n",
      "\n",
      "In the background, several spectators are gathered around the track, watching the event intently. Some are seated on benches, while others stand, all focused on the athlete's performance. The audience appears to be diverse, with people of various ages and backgrounds.\n",
      "\n"
     ]
    },
    {
     "data": {
      "application/vnd.jupyter.widget-view+json": {
       "model_id": "485e8c73bd5c4348807c811a9edcb310",
       "version_major": 2,
       "version_minor": 0
      },
      "text/plain": [
       "Batches:   0%|          | 0/1 [00:00<?, ?it/s]"
      ]
     },
     "metadata": {},
     "output_type": "display_data"
    },
    {
     "name": "stderr",
     "output_type": "stream",
     "text": [
      "INFO:root: Added 103___7a39f6ae79a648be9eacd68a65a96aa5.mp4 video file description to database\n",
      "\n",
      " ******\n",
      " 44%|██████████████████████████████████▊                                            | 44/100 [51:14<1:15:13, 80.60s/it]INFO:root:\n",
      " Processing file 36___5651dabf094b41fdaa9b1d19f72645ff.mp4 using Qwen 2.5 VL on Pytorch XPU..\n",
      "INFO:qwen_vl_utils.vision_process:decord:  video_path='SVW_subset_video_dataset\\\\golf\\\\36___5651dabf094b41fdaa9b1d19f72645ff.mp4', total_frames=1250, video_fps=30.0, time=0.016s\n",
      "INFO:root: Generated description: A golfer is practicing his swing on a green golf course. He is wearing a white shirt, black pants, and white shoes. He is holding a golf club in his right hand and a golf ball in his left hand. He is standing on the green grass and is looking at the golf ball. He is taking a few practice swings and then he is putting the golf ball into the hole..\n",
      "\n"
     ]
    },
    {
     "data": {
      "application/vnd.jupyter.widget-view+json": {
       "model_id": "bbba2c604cdc487eaf20e8127106c26b",
       "version_major": 2,
       "version_minor": 0
      },
      "text/plain": [
       "Batches:   0%|          | 0/1 [00:00<?, ?it/s]"
      ]
     },
     "metadata": {},
     "output_type": "display_data"
    },
    {
     "name": "stderr",
     "output_type": "stream",
     "text": [
      "INFO:root: Added 36___5651dabf094b41fdaa9b1d19f72645ff.mp4 video file description to database\n",
      "\n",
      " ******\n",
      " 45%|███████████████████████████████████▌                                           | 45/100 [52:31<1:13:00, 79.65s/it]INFO:root:\n",
      " Processing file 52___471780494c174b8b9e4d5e1b71eb2bba.mp4 using Qwen 2.5 VL on Pytorch XPU..\n",
      "INFO:qwen_vl_utils.vision_process:decord:  video_path='SVW_subset_video_dataset\\\\bowling\\\\52___471780494c174b8b9e4d5e1b71eb2bba.mp4', total_frames=327, video_fps=30.0, time=0.007s\n",
      "INFO:root: Generated description: The video shows a person standing at the end of a bowling lane, preparing to bowl. The individual is wearing a light gray t-shirt with a circular logo on the back and plaid shorts. They have their hands behind their back, holding a bowling ball. The background features a colorful mural on the wall, depicting various bowling-related images such as bowling balls, pins, and possibly a bowling alley. The setting appears to be an indoor bowling alley with wooden flooring and bright lighting. The person seems ready to take their turn at the bowling lane..\n",
      "\n"
     ]
    },
    {
     "data": {
      "application/vnd.jupyter.widget-view+json": {
       "model_id": "62eba7c2e97d422096953868c67645ac",
       "version_major": 2,
       "version_minor": 0
      },
      "text/plain": [
       "Batches:   0%|          | 0/1 [00:00<?, ?it/s]"
      ]
     },
     "metadata": {},
     "output_type": "display_data"
    },
    {
     "name": "stderr",
     "output_type": "stream",
     "text": [
      "INFO:root: Added 52___471780494c174b8b9e4d5e1b71eb2bba.mp4 video file description to database\n",
      "\n",
      " ******\n",
      " 46%|████████████████████████████████████▎                                          | 46/100 [53:51<1:11:44, 79.72s/it]INFO:root:\n",
      " Processing file 91___327f99c4bc8d4726b3ab4113b4d063d9.mp4 using Qwen 2.5 VL on Pytorch XPU..\n",
      "INFO:qwen_vl_utils.vision_process:decord:  video_path='SVW_subset_video_dataset\\\\hockey\\\\91___327f99c4bc8d4726b3ab4113b4d063d9.mp4', total_frames=767, video_fps=30.0, time=0.016s\n",
      "INFO:root: Generated description: A hockey goalie is practicing his stick handling skills by passing the puck back and forth to himself while lying on the ice. He is wearing a blue jersey and black pants, and he has a white helmet on. The puck is on the ice in front of him, and he is using his stick to pass it back and forth to himself. He is also using his stick to block the puck from going into the net..\n",
      "\n"
     ]
    },
    {
     "data": {
      "application/vnd.jupyter.widget-view+json": {
       "model_id": "52c8d358ea6a4ce8b4def2d871687528",
       "version_major": 2,
       "version_minor": 0
      },
      "text/plain": [
       "Batches:   0%|          | 0/1 [00:00<?, ?it/s]"
      ]
     },
     "metadata": {},
     "output_type": "display_data"
    },
    {
     "name": "stderr",
     "output_type": "stream",
     "text": [
      "INFO:root: Added 91___327f99c4bc8d4726b3ab4113b4d063d9.mp4 video file description to database\n",
      "\n",
      " ******\n",
      " 47%|█████████████████████████████████████▏                                         | 47/100 [54:59<1:07:21, 76.25s/it]INFO:root:\n",
      " Processing file 46___cf3e328ce61448308b9e9ff3517b4aad.mp4 using Qwen 2.5 VL on Pytorch XPU..\n",
      "INFO:qwen_vl_utils.vision_process:decord:  video_path='SVW_subset_video_dataset\\\\archery\\\\46___cf3e328ce61448308b9e9ff3517b4aad.mp4', total_frames=275, video_fps=30.0, time=0.008s\n",
      "INFO:root: Generated description: The video shows a person practicing archery in a room with pink walls. The individual is holding a compound bow and arrow, aiming at a target on the wall. The room has various items hanging on the wall, including a camera, a fan, and some framed pictures. The person appears to be focused and concentrated as they take aim and release the arrow..\n",
      "\n"
     ]
    },
    {
     "data": {
      "application/vnd.jupyter.widget-view+json": {
       "model_id": "dd7990fb45ef4d93961be77da9de8c52",
       "version_major": 2,
       "version_minor": 0
      },
      "text/plain": [
       "Batches:   0%|          | 0/1 [00:00<?, ?it/s]"
      ]
     },
     "metadata": {},
     "output_type": "display_data"
    },
    {
     "name": "stderr",
     "output_type": "stream",
     "text": [
      "INFO:root: Added 46___cf3e328ce61448308b9e9ff3517b4aad.mp4 video file description to database\n",
      "\n",
      " ******\n",
      " 48%|██████████████████████████████████████▉                                          | 48/100 [55:52<59:50, 69.05s/it]INFO:root:\n",
      " Processing file 141___975a30d88a33428a9303a8cadb2376d7.mp4 using Qwen 2.5 VL on Pytorch XPU..\n",
      "INFO:qwen_vl_utils.vision_process:decord:  video_path='SVW_subset_video_dataset\\\\highjump\\\\141___975a30d88a33428a9303a8cadb2376d7.mp4', total_frames=144, video_fps=30.0, time=0.006s\n",
      "INFO:root: Generated description: The video captures a scene from a badminton tournament held in a gymnasium. The gymnasium has a wooden floor and is equipped with various sports equipment, including a basketball hoop and a volleyball net. A group of people are gathered around the court, watching the players compete. The players are dressed in athletic gear and are actively engaged in the game. The atmosphere is energetic and competitive, with the players demonstrating their skills and strategies..\n",
      "\n"
     ]
    },
    {
     "data": {
      "application/vnd.jupyter.widget-view+json": {
       "model_id": "51611637da4145d7b1badb650ce40de3",
       "version_major": 2,
       "version_minor": 0
      },
      "text/plain": [
       "Batches:   0%|          | 0/1 [00:00<?, ?it/s]"
      ]
     },
     "metadata": {},
     "output_type": "display_data"
    },
    {
     "name": "stderr",
     "output_type": "stream",
     "text": [
      "INFO:root: Added 141___975a30d88a33428a9303a8cadb2376d7.mp4 video file description to database\n",
      "\n",
      " ******\n",
      " 49%|███████████████████████████████████████▋                                         | 49/100 [56:55<57:20, 67.47s/it]INFO:root:\n",
      " Processing file 78___5dd3c818e9e549e2a44a7850e515f101.mp4 using Qwen 2.5 VL on Pytorch XPU..\n",
      "INFO:qwen_vl_utils.vision_process:decord:  video_path='SVW_subset_video_dataset\\\\wrestling\\\\78___5dd3c818e9e549e2a44a7850e515f101.mp4', total_frames=208, video_fps=30.0, time=0.007s\n",
      "INFO:root: Generated description: The video shows a basketball game in progress, with players on the court actively engaged in the game. The court is well-lit and has a polished wooden floor. The players are wearing their team uniforms, and the game appears to be competitive. The video captures the intensity and excitement of the sport as the players move around the court, passing the ball and shooting at the basket..\n",
      "\n"
     ]
    },
    {
     "data": {
      "application/vnd.jupyter.widget-view+json": {
       "model_id": "fb8e18b2f43d4420b74e1bc7b6bbbedd",
       "version_major": 2,
       "version_minor": 0
      },
      "text/plain": [
       "Batches:   0%|          | 0/1 [00:00<?, ?it/s]"
      ]
     },
     "metadata": {},
     "output_type": "display_data"
    },
    {
     "name": "stderr",
     "output_type": "stream",
     "text": [
      "INFO:root: Added 78___5dd3c818e9e549e2a44a7850e515f101.mp4 video file description to database\n",
      "\n",
      " ******\n",
      " 50%|████████████████████████████████████████▌                                        | 50/100 [57:50<53:05, 63.70s/it]INFO:root:\n",
      " Processing file 90___bd1f755ddd9147059595e990a46ee353.mp4 using Qwen 2.5 VL on Pytorch XPU..\n",
      "INFO:qwen_vl_utils.vision_process:decord:  video_path='SVW_subset_video_dataset\\\\football\\\\90___bd1f755ddd9147059595e990a46ee353.mp4', total_frames=231, video_fps=30.0, time=0.008s\n",
      "INFO:root: Generated description: The video shows a young man standing on a grassy field, likely a sports field or park. He is wearing a yellow shirt and black shorts. The background includes a red track and field area with bleachers and some trees. The sky appears to be clear and sunny, suggesting it is daytime. The man seems to be preparing for or taking a break from an activity, possibly related to sports or exercise..\n",
      "\n"
     ]
    },
    {
     "data": {
      "application/vnd.jupyter.widget-view+json": {
       "model_id": "a12929a292cb40cc8c774f7cda81e021",
       "version_major": 2,
       "version_minor": 0
      },
      "text/plain": [
       "Batches:   0%|          | 0/1 [00:00<?, ?it/s]"
      ]
     },
     "metadata": {},
     "output_type": "display_data"
    },
    {
     "name": "stderr",
     "output_type": "stream",
     "text": [
      "INFO:root: Added 90___bd1f755ddd9147059595e990a46ee353.mp4 video file description to database\n",
      "\n",
      " ******\n",
      " 51%|█████████████████████████████████████████▎                                       | 51/100 [58:49<50:54, 62.33s/it]INFO:root:\n",
      " Processing file 162___2c6bfd4a66794f1b90f807d3b34e2d31.mp4 using Qwen 2.5 VL on Pytorch XPU..\n",
      "INFO:qwen_vl_utils.vision_process:decord:  video_path='SVW_subset_video_dataset\\\\basketball\\\\162___2c6bfd4a66794f1b90f807d3b34e2d31.mp4', total_frames=756, video_fps=30.0, time=0.016s\n",
      "INFO:root: Generated description: A basketball game is being played in a gymnasium. The players are wearing white and blue uniforms. A player in a white uniform dribbles the ball down the court, passing it to his teammates. The players are running and jumping, trying to score points. The camera follows the action as the players move around the court..\n",
      "\n"
     ]
    },
    {
     "data": {
      "application/vnd.jupyter.widget-view+json": {
       "model_id": "67e79d653e3f40b9b0d63cd5fcce7baa",
       "version_major": 2,
       "version_minor": 0
      },
      "text/plain": [
       "Batches:   0%|          | 0/1 [00:00<?, ?it/s]"
      ]
     },
     "metadata": {},
     "output_type": "display_data"
    },
    {
     "name": "stderr",
     "output_type": "stream",
     "text": [
      "INFO:root: Added 162___2c6bfd4a66794f1b90f807d3b34e2d31.mp4 video file description to database\n",
      "\n",
      " ******\n",
      " 52%|██████████████████████████████████████████                                       | 52/100 [59:45<48:13, 60.29s/it]INFO:root:\n",
      " Processing file 32___1bede331140c42c8b0b46a2cfb9ffbe1.mp4 using Qwen 2.5 VL on Pytorch XPU..\n",
      "INFO:qwen_vl_utils.vision_process:decord:  video_path='SVW_subset_video_dataset\\\\longjump\\\\32___1bede331140c42c8b0b46a2cfb9ffbe1.mp4', total_frames=216, video_fps=30.0, time=0.005s\n",
      "INFO:root: Generated description: The video captures a track and field event, specifically the shot put throw. The scene is set in an outdoor stadium with a large crowd of spectators watching the competition. The athlete, dressed in a blue and white uniform, stands on the throwing platform, preparing to release the shot put. The shot put is a heavy metal ball used in track and field events. The athlete's body language suggests concentration and determination as they prepare for the throw. The camera angle provides a clear view of the athlete's form and the shot put in mid-air, emphasizing the power and distance of the throw. The background shows other athletes and officials, adding to the.\n",
      "\n"
     ]
    },
    {
     "data": {
      "application/vnd.jupyter.widget-view+json": {
       "model_id": "976ea08d7e4d413ebb90c3e0c1271a44",
       "version_major": 2,
       "version_minor": 0
      },
      "text/plain": [
       "Batches:   0%|          | 0/1 [00:00<?, ?it/s]"
      ]
     },
     "metadata": {},
     "output_type": "display_data"
    },
    {
     "name": "stderr",
     "output_type": "stream",
     "text": [
      "INFO:root: Added 32___1bede331140c42c8b0b46a2cfb9ffbe1.mp4 video file description to database\n",
      "\n",
      " ******\n",
      " 53%|█████████████████████████████████████████▊                                     | 53/100 [1:01:15<54:13, 69.22s/it]INFO:root:\n",
      " Processing file 17___bbd9593cb458417ab308ad1d8bb04ecb.mp4 using Qwen 2.5 VL on Pytorch XPU..\n",
      "INFO:qwen_vl_utils.vision_process:decord:  video_path='SVW_subset_video_dataset\\\\polevault\\\\17___bbd9593cb458417ab308ad1d8bb04ecb.mp4', total_frames=228, video_fps=30.0, time=0.009s\n",
      "INFO:root: Generated description: The video shows a group of people playing table tennis in an indoor setting, likely a recreational facility or a community center. The players are engaged in a friendly match, with one player serving the ball and others returning it. The environment appears to be well-lit, possibly with artificial lighting, and there are other people in the background, suggesting a social gathering or event. The players are focused on their game, and the atmosphere seems casual and enjoyable..\n",
      "\n"
     ]
    },
    {
     "data": {
      "application/vnd.jupyter.widget-view+json": {
       "model_id": "f7fc18d147104d7ca4ad259390f889ab",
       "version_major": 2,
       "version_minor": 0
      },
      "text/plain": [
       "Batches:   0%|          | 0/1 [00:00<?, ?it/s]"
      ]
     },
     "metadata": {},
     "output_type": "display_data"
    },
    {
     "name": "stderr",
     "output_type": "stream",
     "text": [
      "INFO:root: Added 17___bbd9593cb458417ab308ad1d8bb04ecb.mp4 video file description to database\n",
      "\n",
      " ******\n",
      " 54%|██████████████████████████████████████████▋                                    | 54/100 [1:02:20<51:59, 67.81s/it]INFO:root:\n",
      " Processing file 82___ad1d27601d704025aef5d15b0dd31dd6.mp4 using Qwen 2.5 VL on Pytorch XPU..\n",
      "INFO:qwen_vl_utils.vision_process:decord:  video_path='SVW_subset_video_dataset\\\\rowing\\\\82___ad1d27601d704025aef5d15b0dd31dd6.mp4', total_frames=389, video_fps=30.0, time=0.008s\n",
      "INFO:root: Generated description: A rowing team of four men is rowing on a calm lake. They are all wearing white shirts and hats, and they are using oars to propel themselves forward. The lake is surrounded by trees and hills, and the sky is clear and blue. The rowers are working in unison, and their oars are moving rhythmically back and forth. The water is smooth and calm, and there are no other boats or people visible in the distance..\n",
      "\n"
     ]
    },
    {
     "data": {
      "application/vnd.jupyter.widget-view+json": {
       "model_id": "b1d05e6b8fb846a9bb8222117e4a7a96",
       "version_major": 2,
       "version_minor": 0
      },
      "text/plain": [
       "Batches:   0%|          | 0/1 [00:00<?, ?it/s]"
      ]
     },
     "metadata": {},
     "output_type": "display_data"
    },
    {
     "name": "stderr",
     "output_type": "stream",
     "text": [
      "INFO:root: Added 82___ad1d27601d704025aef5d15b0dd31dd6.mp4 video file description to database\n",
      "\n",
      " ******\n",
      " 55%|███████████████████████████████████████████▍                                   | 55/100 [1:03:28<50:58, 67.98s/it]INFO:root:\n",
      " Processing file 1455___430099f52dd04dcfaa01104d8fd6940d.mp4 using Qwen 2.5 VL on Pytorch XPU..\n",
      "INFO:qwen_vl_utils.vision_process:decord:  video_path='SVW_subset_video_dataset\\\\boxing\\\\1455___430099f52dd04dcfaa01104d8fd6940d.mp4', total_frames=1009, video_fps=30.0, time=0.014s\n",
      "INFO:root: Generated description: Two boxers are in the ring, facing each other. They are both wearing red and white boxing trunks. The boxer on the left is throwing punches at the boxer on the right. The referee is standing behind them, watching the fight. The crowd is cheering for the fighters..\n",
      "\n"
     ]
    },
    {
     "data": {
      "application/vnd.jupyter.widget-view+json": {
       "model_id": "a376fa893eb843b9b94f8cbccbacbae1",
       "version_major": 2,
       "version_minor": 0
      },
      "text/plain": [
       "Batches:   0%|          | 0/1 [00:00<?, ?it/s]"
      ]
     },
     "metadata": {},
     "output_type": "display_data"
    },
    {
     "name": "stderr",
     "output_type": "stream",
     "text": [
      "INFO:root: Added 1455___430099f52dd04dcfaa01104d8fd6940d.mp4 video file description to database\n",
      "\n",
      " ******\n",
      " 56%|████████████████████████████████████████████▏                                  | 56/100 [1:04:22<46:52, 63.91s/it]INFO:root:\n",
      " Processing file 42___8cbef5afab524d9a91ba6999d7630d44.mp4 using Qwen 2.5 VL on Pytorch XPU..\n",
      "INFO:qwen_vl_utils.vision_process:decord:  video_path='SVW_subset_video_dataset\\\\gymnastics\\\\42___8cbef5afab524d9a91ba6999d7630d44.mp4', total_frames=133, video_fps=30.0, time=0.012s\n",
      "INFO:root: Generated description: The video captures a dynamic scene of a trampoline athlete performing a high-flying jump. The athlete, dressed in a white tank top and black shorts, is captured mid-air, executing a complex maneuver that involves a flip or twist. The trampoline is large and colorful, with blue and red padding visible beneath the athlete. In the background, there are several people, including a coach or instructor, observing the performance. The setting appears to be an indoor sports facility, possibly a gym or a trampoline park, with various banners and advertisements on the walls. The atmosphere is energetic and focused, highlighting the athleticism and skill of the trampoline.\n",
      "\n"
     ]
    },
    {
     "data": {
      "application/vnd.jupyter.widget-view+json": {
       "model_id": "4f3b55ae3a2c46529616a61565224cfb",
       "version_major": 2,
       "version_minor": 0
      },
      "text/plain": [
       "Batches:   0%|          | 0/1 [00:00<?, ?it/s]"
      ]
     },
     "metadata": {},
     "output_type": "display_data"
    },
    {
     "name": "stderr",
     "output_type": "stream",
     "text": [
      "INFO:root: Added 42___8cbef5afab524d9a91ba6999d7630d44.mp4 video file description to database\n",
      "\n",
      " ******\n",
      " 57%|█████████████████████████████████████████████                                  | 57/100 [1:05:52<51:18, 71.58s/it]INFO:root:\n",
      " Processing file 18___f9f5efe4c3ae41b392ddc91300ae9a57.mp4 using Qwen 2.5 VL on Pytorch XPU..\n",
      "INFO:qwen_vl_utils.vision_process:decord:  video_path='SVW_subset_video_dataset\\\\gymnastics\\\\18___f9f5efe4c3ae41b392ddc91300ae9a57.mp4', total_frames=135, video_fps=30.0, time=0.004s\n",
      "INFO:root: Generated description: The video appears to be set in an indoor sports facility, likely a gym or a recreational center. The background features a colorful mural depicting cartoon characters and scenes, adding a playful and vibrant atmosphere to the setting. \n",
      "\n",
      "In the foreground, there is a person sitting on a bench, wearing shorts and a white shirt. They seem to be engaged in some form of physical activity, possibly stretching or warming up. The person's legs are visible, and they appear to be in a relaxed position.\n",
      "\n",
      "The overall environment suggests a casual, recreational setting where people can engage in various sports and activities. The mural adds a fun and creative touch to the space.\n",
      "\n"
     ]
    },
    {
     "data": {
      "application/vnd.jupyter.widget-view+json": {
       "model_id": "d79ffe3a1be046229321822bf86551e1",
       "version_major": 2,
       "version_minor": 0
      },
      "text/plain": [
       "Batches:   0%|          | 0/1 [00:00<?, ?it/s]"
      ]
     },
     "metadata": {},
     "output_type": "display_data"
    },
    {
     "name": "stderr",
     "output_type": "stream",
     "text": [
      "INFO:root: Added 18___f9f5efe4c3ae41b392ddc91300ae9a57.mp4 video file description to database\n",
      "\n",
      " ******\n",
      " 58%|█████████████████████████████████████████████▊                                 | 58/100 [1:07:21<53:46, 76.82s/it]INFO:root:\n",
      " Processing file 237___58b78af4ac144e6388a20fc0fcb7a5f3.mp4 using Qwen 2.5 VL on Pytorch XPU..\n",
      "INFO:qwen_vl_utils.vision_process:decord:  video_path='SVW_subset_video_dataset\\\\cheerleading\\\\237___58b78af4ac144e6388a20fc0fcb7a5f3.mp4', total_frames=340, video_fps=30.0, time=0.016s\n",
      "INFO:root: Generated description: The video shows a group of young women playing volleyball in an indoor gymnasium. They are wearing matching uniforms, with one player in the center performing a high-flying aerial trick, jumping over two other players who are holding her up. The players are smiling and appear to be enjoying themselves. The gym has wooden walls and a blue floor, and there is a crowd of spectators watching the game..\n",
      "\n"
     ]
    },
    {
     "data": {
      "application/vnd.jupyter.widget-view+json": {
       "model_id": "acd211200be94c5c9862a9781ceb8d99",
       "version_major": 2,
       "version_minor": 0
      },
      "text/plain": [
       "Batches:   0%|          | 0/1 [00:00<?, ?it/s]"
      ]
     },
     "metadata": {},
     "output_type": "display_data"
    },
    {
     "name": "stderr",
     "output_type": "stream",
     "text": [
      "INFO:root: Added 237___58b78af4ac144e6388a20fc0fcb7a5f3.mp4 video file description to database\n",
      "\n",
      " ******\n",
      " 59%|██████████████████████████████████████████████▌                                | 59/100 [1:08:20<48:47, 71.39s/it]INFO:root:\n",
      " Processing file 20___b98e0203cd784137bc7b9c1b2a47ae57.mp4 using Qwen 2.5 VL on Pytorch XPU..\n",
      "INFO:qwen_vl_utils.vision_process:decord:  video_path='SVW_subset_video_dataset\\\\golf\\\\20___b98e0203cd784137bc7b9c1b2a47ae57.mp4', total_frames=487, video_fps=30.0, time=0.009s\n",
      "INFO:root: Generated description: A man is standing on a golf course, holding a golf club and looking at the ball. He takes a few steps back and then swings the club, hitting the ball into the air. The ball flies through the air and lands on the green. The man watches the ball as it rolls towards the hole..\n",
      "\n"
     ]
    },
    {
     "data": {
      "application/vnd.jupyter.widget-view+json": {
       "model_id": "0a94426aa4e048cbb335e5ed7222cd0d",
       "version_major": 2,
       "version_minor": 0
      },
      "text/plain": [
       "Batches:   0%|          | 0/1 [00:00<?, ?it/s]"
      ]
     },
     "metadata": {},
     "output_type": "display_data"
    },
    {
     "name": "stderr",
     "output_type": "stream",
     "text": [
      "INFO:root: Added 20___b98e0203cd784137bc7b9c1b2a47ae57.mp4 video file description to database\n",
      "\n",
      " ******\n",
      " 60%|███████████████████████████████████████████████▍                               | 60/100 [1:09:08<43:02, 64.57s/it]INFO:root:\n",
      " Processing file 291___b3c2ff4d2cdd43caa95e77b3db1faa22.mp4 using Qwen 2.5 VL on Pytorch XPU..\n",
      "INFO:qwen_vl_utils.vision_process:decord:  video_path='SVW_subset_video_dataset\\\\bmx\\\\291___b3c2ff4d2cdd43caa95e77b3db1faa22.mp4', total_frames=270, video_fps=30.0, time=0.007s\n",
      "INFO:root: Generated description: The video captures a thrilling scene of a BMX rider performing a daring stunt on a ramp. The rider, dressed in a helmet and protective gear, launches off the ramp with great speed and precision, soaring through the air before landing smoothly back on the ground. The crowd of spectators, some holding signs and banners, watches in awe as the rider executes the stunt with skill and confidence. The video is shot from a low angle, emphasizing the height and power of the jump, and the sound of the bike's wheels and the crowd's cheers adds to the excitement of the moment..\n",
      "\n"
     ]
    },
    {
     "data": {
      "application/vnd.jupyter.widget-view+json": {
       "model_id": "d17496f006dd42f899839f21224f8cbe",
       "version_major": 2,
       "version_minor": 0
      },
      "text/plain": [
       "Batches:   0%|          | 0/1 [00:00<?, ?it/s]"
      ]
     },
     "metadata": {},
     "output_type": "display_data"
    },
    {
     "name": "stderr",
     "output_type": "stream",
     "text": [
      "INFO:root: Added 291___b3c2ff4d2cdd43caa95e77b3db1faa22.mp4 video file description to database\n",
      "\n",
      " ******\n",
      " 61%|████████████████████████████████████████████████▏                              | 61/100 [1:10:30<45:20, 69.75s/it]INFO:root:\n",
      " Processing file 45___1d6b948ce987440bbd5a4f4332c442e1.mp4 using Qwen 2.5 VL on Pytorch XPU..\n",
      "INFO:qwen_vl_utils.vision_process:decord:  video_path='SVW_subset_video_dataset\\\\swimming\\\\45___1d6b948ce987440bbd5a4f4332c442e1.mp4', total_frames=257, video_fps=30.0, time=0.009s\n",
      "INFO:root: Generated description: The video shows a swimmer performing a dive into an outdoor swimming pool. The swimmer is seen jumping off a diving board and entering the water with a splash. The camera captures the swimmer's form as they descend into the pool, creating ripples in the water. The background features a large building with red and white colors, and there are empty spectator seats visible..\n",
      "\n"
     ]
    },
    {
     "data": {
      "application/vnd.jupyter.widget-view+json": {
       "model_id": "4b877e523ece41ddbd626753721c9091",
       "version_major": 2,
       "version_minor": 0
      },
      "text/plain": [
       "Batches:   0%|          | 0/1 [00:00<?, ?it/s]"
      ]
     },
     "metadata": {},
     "output_type": "display_data"
    },
    {
     "name": "stderr",
     "output_type": "stream",
     "text": [
      "INFO:root: Added 45___1d6b948ce987440bbd5a4f4332c442e1.mp4 video file description to database\n",
      "\n",
      " ******\n",
      " 62%|████████████████████████████████████████████████▉                              | 62/100 [1:11:24<41:11, 65.03s/it]INFO:root:\n",
      " Processing file 295___7130e4846d92413d92c3fb200388dc0e.mp4 using Qwen 2.5 VL on Pytorch XPU..\n",
      "INFO:qwen_vl_utils.vision_process:decord:  video_path='SVW_subset_video_dataset\\\\hurdling\\\\295___7130e4846d92413d92c3fb200388dc0e.mp4', total_frames=230, video_fps=30.0, time=0.007s\n",
      "INFO:root: Generated description: The video captures an indoor basketball game in a well-lit gymnasium. The court is marked with red and white lines, and the walls are adorned with banners and posters. Players are seen wearing white jerseys, and one player in a red jersey is dribbling the ball down the court. The camera follows the player as they move towards the basket, showcasing the dynamic action of the game..\n",
      "\n"
     ]
    },
    {
     "data": {
      "application/vnd.jupyter.widget-view+json": {
       "model_id": "a7f4a38a32f647c5ba48fdcea5e3fff6",
       "version_major": 2,
       "version_minor": 0
      },
      "text/plain": [
       "Batches:   0%|          | 0/1 [00:00<?, ?it/s]"
      ]
     },
     "metadata": {},
     "output_type": "display_data"
    },
    {
     "name": "stderr",
     "output_type": "stream",
     "text": [
      "INFO:root: Added 295___7130e4846d92413d92c3fb200388dc0e.mp4 video file description to database\n",
      "\n",
      " ******\n",
      " 63%|█████████████████████████████████████████████████▊                             | 63/100 [1:12:21<38:36, 62.62s/it]INFO:root:\n",
      " Processing file 744___37752aeec1b24050acfc78ff864569d3.mp4 using Qwen 2.5 VL on Pytorch XPU..\n",
      "INFO:qwen_vl_utils.vision_process:decord:  video_path='SVW_subset_video_dataset\\\\wrestling\\\\744___37752aeec1b24050acfc78ff864569d3.mp4', total_frames=766, video_fps=30.0, time=0.003s\n",
      "INFO:root: Generated description: The video shows a wrestling match in an indoor gymnasium. Two wrestlers are engaged in a match, with one wrestler in blue and the other in red. The wrestler in blue is attempting to pin the wrestler in red by applying a submission hold. The wrestler in red is trying to escape the hold. The referee is closely observing the match and signaling to the wrestlers as needed. The crowd in the background is cheering and reacting to the action on the mat..\n",
      "\n"
     ]
    },
    {
     "data": {
      "application/vnd.jupyter.widget-view+json": {
       "model_id": "f70a706585914cb796a5228bd380f725",
       "version_major": 2,
       "version_minor": 0
      },
      "text/plain": [
       "Batches:   0%|          | 0/1 [00:00<?, ?it/s]"
      ]
     },
     "metadata": {},
     "output_type": "display_data"
    },
    {
     "name": "stderr",
     "output_type": "stream",
     "text": [
      "INFO:root: Added 744___37752aeec1b24050acfc78ff864569d3.mp4 video file description to database\n",
      "\n",
      " ******\n",
      " 64%|██████████████████████████████████████████████████▌                            | 64/100 [1:13:35<39:33, 65.93s/it]INFO:root:\n",
      " Processing file 987___0c74d6762c394068962b7352ae533fb5.mp4 using Qwen 2.5 VL on Pytorch XPU..\n",
      "INFO:qwen_vl_utils.vision_process:decord:  video_path='SVW_subset_video_dataset\\\\hammerthrow\\\\987___0c74d6762c394068962b7352ae533fb5.mp4', total_frames=309, video_fps=30.0, time=0.006s\n",
      "INFO:root: Generated description: A man stands in a concrete circle, preparing to throw a shot put. He takes a few steps back and begins to spin, building momentum. As he spins, the shot put is visible in his hand, held out in front of him. He continues to spin, gaining speed, until he releases the shot put with a powerful throw. The shot put flies through the air, landing on the grassy field beyond the concrete circle..\n",
      "\n"
     ]
    },
    {
     "data": {
      "application/vnd.jupyter.widget-view+json": {
       "model_id": "ba411ee02b1d4dfe87f3bb8278c0fe90",
       "version_major": 2,
       "version_minor": 0
      },
      "text/plain": [
       "Batches:   0%|          | 0/1 [00:00<?, ?it/s]"
      ]
     },
     "metadata": {},
     "output_type": "display_data"
    },
    {
     "name": "stderr",
     "output_type": "stream",
     "text": [
      "INFO:root: Added 987___0c74d6762c394068962b7352ae533fb5.mp4 video file description to database\n",
      "\n",
      " ******\n",
      " 65%|███████████████████████████████████████████████████▎                           | 65/100 [1:14:39<38:10, 65.43s/it]INFO:root:\n",
      " Processing file 200___72711b13c6944d61b9b9d1f1fa17cd1d.mp4 using Qwen 2.5 VL on Pytorch XPU..\n",
      "INFO:qwen_vl_utils.vision_process:decord:  video_path='SVW_subset_video_dataset\\\\skating\\\\200___72711b13c6944d61b9b9d1f1fa17cd1d.mp4', total_frames=186, video_fps=30.0, time=0.007s\n",
      "INFO:root: Generated description: The video depicts an indoor ice skating rink where two individuals are engaged in a playful activity. One person, dressed in a black outfit, is actively skating and appears to be pushing or directing the other individual, who is wearing a pink outfit. The person in pink seems to be following the guidance of the one in black, possibly learning how to skate or participating in a fun, interactive session. The rink is well-lit, with visible markings on the ice, and there are other people and equipment in the background, suggesting it's a public or recreational facility. The atmosphere is light-hearted and enjoyable, with both participants appearing to have.\n",
      "\n"
     ]
    },
    {
     "data": {
      "application/vnd.jupyter.widget-view+json": {
       "model_id": "1904d67ee2ee4f5796affe3b49fcc0f3",
       "version_major": 2,
       "version_minor": 0
      },
      "text/plain": [
       "Batches:   0%|          | 0/1 [00:00<?, ?it/s]"
      ]
     },
     "metadata": {},
     "output_type": "display_data"
    },
    {
     "name": "stderr",
     "output_type": "stream",
     "text": [
      "INFO:root: Added 200___72711b13c6944d61b9b9d1f1fa17cd1d.mp4 video file description to database\n",
      "\n",
      " ******\n",
      " 66%|████████████████████████████████████████████████████▏                          | 66/100 [1:16:09<41:13, 72.76s/it]INFO:root:\n",
      " Processing file 6___81a30a600a784637b67ceacf9bd8abce.mp4 using Qwen 2.5 VL on Pytorch XPU..\n",
      "INFO:qwen_vl_utils.vision_process:decord:  video_path='SVW_subset_video_dataset\\\\polevault\\\\6___81a30a600a784637b67ceacf9bd8abce.mp4', total_frames=257, video_fps=30.0, time=0.008s\n",
      "INFO:root: Generated description: The video captures a track and field event, specifically the long jump competition. The scene is set on a red running track with white lane markings, surrounded by a grassy area where spectators are seated in stands. The sky is clear and blue, indicating a sunny day.\n",
      "\n",
      "In the foreground, there is a long jump pit made of sand or a similar material. A long jump athlete is preparing to take off from the starting block, which is placed at the end of the track. The athlete is wearing a white shirt and black shorts, and they are standing on the starting block, ready to begin their jump.\n",
      "\n",
      "To the right of the long.\n",
      "\n"
     ]
    },
    {
     "data": {
      "application/vnd.jupyter.widget-view+json": {
       "model_id": "357e7210ac6c464b85c57933558b8404",
       "version_major": 2,
       "version_minor": 0
      },
      "text/plain": [
       "Batches:   0%|          | 0/1 [00:00<?, ?it/s]"
      ]
     },
     "metadata": {},
     "output_type": "display_data"
    },
    {
     "name": "stderr",
     "output_type": "stream",
     "text": [
      "INFO:root: Added 6___81a30a600a784637b67ceacf9bd8abce.mp4 video file description to database\n",
      "\n",
      " ******\n",
      " 67%|████████████████████████████████████████████████████▉                          | 67/100 [1:17:39<42:49, 77.86s/it]INFO:root:\n",
      " Processing file 146___fc3547c70e7c4c4b9bbd4dfeff9369aa.mp4 using Qwen 2.5 VL on Pytorch XPU..\n",
      "INFO:qwen_vl_utils.vision_process:decord:  video_path='SVW_subset_video_dataset\\\\longjump\\\\146___fc3547c70e7c4c4b9bbd4dfeff9369aa.mp4', total_frames=160, video_fps=30.0, time=0.009s\n",
      "INFO:root: Generated description: The video captures a dynamic scene of a baseball game in progress. The setting is an outdoor baseball field, with the infield dirt and outfield grass clearly visible. In the foreground, a player in a blue uniform is seen running towards home plate, indicating that they have just hit the ball and are now advancing to score a run. The player's body language suggests speed and determination.\n",
      "\n",
      "In the background, another player in a white uniform is seen running towards first base, likely attempting to tag out the runner at home plate. This player's posture indicates readiness and focus on the play. The outfield is populated with several players in various positions, ready to.\n",
      "\n"
     ]
    },
    {
     "data": {
      "application/vnd.jupyter.widget-view+json": {
       "model_id": "7207428529aa4993bd0de76d59af7726",
       "version_major": 2,
       "version_minor": 0
      },
      "text/plain": [
       "Batches:   0%|          | 0/1 [00:00<?, ?it/s]"
      ]
     },
     "metadata": {},
     "output_type": "display_data"
    },
    {
     "name": "stderr",
     "output_type": "stream",
     "text": [
      "INFO:root: Added 146___fc3547c70e7c4c4b9bbd4dfeff9369aa.mp4 video file description to database\n",
      "\n",
      " ******\n",
      " 68%|█████████████████████████████████████████████████████▋                         | 68/100 [1:19:09<43:28, 81.53s/it]INFO:root:\n",
      " Processing file 16___e88453acae28432e962a3059be9ea97e.mp4 using Qwen 2.5 VL on Pytorch XPU..\n",
      "INFO:qwen_vl_utils.vision_process:decord:  video_path='SVW_subset_video_dataset\\\\highjump\\\\16___e88453acae28432e962a3059be9ea97e.mp4', total_frames=271, video_fps=30.0, time=0.006s\n",
      "INFO:root: Generated description: A young girl is running on a red track, her arms outstretched as she sprints towards the finish line. She is wearing a white tank top and blue shorts, and her hair is tied back in a ponytail. As she approaches the finish line, she leaps into the air, landing gracefully on the blue mat. The camera follows her as she lands, capturing the excitement of the moment..\n",
      "\n"
     ]
    },
    {
     "data": {
      "application/vnd.jupyter.widget-view+json": {
       "model_id": "5039b01e72504fa5889a118204f562d9",
       "version_major": 2,
       "version_minor": 0
      },
      "text/plain": [
       "Batches:   0%|          | 0/1 [00:00<?, ?it/s]"
      ]
     },
     "metadata": {},
     "output_type": "display_data"
    },
    {
     "name": "stderr",
     "output_type": "stream",
     "text": [
      "INFO:root: Added 16___e88453acae28432e962a3059be9ea97e.mp4 video file description to database\n",
      "\n",
      " ******\n",
      " 69%|██████████████████████████████████████████████████████▌                        | 69/100 [1:20:07<38:31, 74.57s/it]INFO:root:\n",
      " Processing file 25___fd42a2fdba0d4c2fa72b6800ee0914d4.mp4 using Qwen 2.5 VL on Pytorch XPU..\n",
      "INFO:qwen_vl_utils.vision_process:decord:  video_path='SVW_subset_video_dataset\\\\basketball\\\\25___fd42a2fdba0d4c2fa72b6800ee0914d4.mp4', total_frames=57, video_fps=30.0, time=0.007s\n",
      "INFO:root: Generated description: The video shows a young girl standing in a gymnasium, holding a basketball. She is wearing a white t-shirt and black shorts. There are other people in the background, including a woman in a white shirt and black shorts who appears to be watching the girl. The girl is looking at the camera and smiling. The gymnasium has a wooden floor and a basketball hoop in the background. The lighting in the gymnasium is bright..\n",
      "\n"
     ]
    },
    {
     "data": {
      "application/vnd.jupyter.widget-view+json": {
       "model_id": "e4d7a3bbcb344a78aeadf0a617c00de0",
       "version_major": 2,
       "version_minor": 0
      },
      "text/plain": [
       "Batches:   0%|          | 0/1 [00:00<?, ?it/s]"
      ]
     },
     "metadata": {},
     "output_type": "display_data"
    },
    {
     "name": "stderr",
     "output_type": "stream",
     "text": [
      "INFO:root: Added 25___fd42a2fdba0d4c2fa72b6800ee0914d4.mp4 video file description to database\n",
      "\n",
      " ******\n",
      " 70%|███████████████████████████████████████████████████████▎                       | 70/100 [1:21:12<35:47, 71.58s/it]INFO:root:\n",
      " Processing file 89___fdeb3b446c5742ca94e7b94002adf1b6.mp4 using Qwen 2.5 VL on Pytorch XPU..\n",
      "INFO:qwen_vl_utils.vision_process:decord:  video_path='SVW_subset_video_dataset\\\\football\\\\89___fdeb3b446c5742ca94e7b94002adf1b6.mp4', total_frames=270, video_fps=30.0, time=0.002s\n",
      "INFO:root: Generated description: The video shows a group of people playing soccer on a grassy field. The players are wearing casual clothing and are actively engaged in the game, passing the ball and running around the field. The field is surrounded by trees and buildings, and the sky is clear and blue. The players seem to be enjoying themselves and are having a good time..\n",
      "\n"
     ]
    },
    {
     "data": {
      "application/vnd.jupyter.widget-view+json": {
       "model_id": "5d6444b16d374314a3d74bb904db0cfc",
       "version_major": 2,
       "version_minor": 0
      },
      "text/plain": [
       "Batches:   0%|          | 0/1 [00:00<?, ?it/s]"
      ]
     },
     "metadata": {},
     "output_type": "display_data"
    },
    {
     "name": "stderr",
     "output_type": "stream",
     "text": [
      "INFO:root: Added 89___fdeb3b446c5742ca94e7b94002adf1b6.mp4 video file description to database\n",
      "\n",
      " ******\n",
      " 71%|████████████████████████████████████████████████████████                       | 71/100 [1:22:02<31:28, 65.13s/it]INFO:root:\n",
      " Processing file 229___a9e0cbc099024f70b19625ae67c05f8f.mp4 using Qwen 2.5 VL on Pytorch XPU..\n",
      "INFO:qwen_vl_utils.vision_process:decord:  video_path='SVW_subset_video_dataset\\\\tennis\\\\229___a9e0cbc099024f70b19625ae67c05f8f.mp4', total_frames=265, video_fps=30.0, time=0.004s\n",
      "INFO:root: Generated description: The video shows an indoor tennis match between two teams of four players each. The players are engaged in a doubles match, with each team playing against the other team. The players are positioned on opposite sides of the net and are actively hitting the ball back and forth. The players are wearing tennis attire and are using tennis rackets to hit the ball. The court is well-lit and has a blue surface. The players are focused and competitive, and the match appears to be intense..\n",
      "\n"
     ]
    },
    {
     "data": {
      "application/vnd.jupyter.widget-view+json": {
       "model_id": "255f4871ae94442ab78e297d2f2e28e1",
       "version_major": 2,
       "version_minor": 0
      },
      "text/plain": [
       "Batches:   0%|          | 0/1 [00:00<?, ?it/s]"
      ]
     },
     "metadata": {},
     "output_type": "display_data"
    },
    {
     "name": "stderr",
     "output_type": "stream",
     "text": [
      "INFO:root: Added 229___a9e0cbc099024f70b19625ae67c05f8f.mp4 video file description to database\n",
      "\n",
      " ******\n",
      " 72%|████████████████████████████████████████████████████████▉                      | 72/100 [1:23:11<30:57, 66.36s/it]INFO:root:\n",
      " Processing file 735___efa53cd6eff0462c92cd13ae78f3663f.mp4 using Qwen 2.5 VL on Pytorch XPU..\n",
      "INFO:qwen_vl_utils.vision_process:decord:  video_path='SVW_subset_video_dataset\\\\discusthrow\\\\735___efa53cd6eff0462c92cd13ae78f3663f.mp4', total_frames=230, video_fps=30.0, time=0.001s\n",
      "INFO:root: Generated description: A young man stands in a throwing circle, preparing to throw a discus. He is wearing a white shirt and gray pants. He takes a few steps back, then winds up his arm and throws the discus. The discus flies through the air and lands on the field..\n",
      "\n"
     ]
    },
    {
     "data": {
      "application/vnd.jupyter.widget-view+json": {
       "model_id": "d7550c22b24d4b379442cd81c6d6374e",
       "version_major": 2,
       "version_minor": 0
      },
      "text/plain": [
       "Batches:   0%|          | 0/1 [00:00<?, ?it/s]"
      ]
     },
     "metadata": {},
     "output_type": "display_data"
    },
    {
     "name": "stderr",
     "output_type": "stream",
     "text": [
      "INFO:root: Added 735___efa53cd6eff0462c92cd13ae78f3663f.mp4 video file description to database\n",
      "\n",
      " ******\n",
      " 73%|█████████████████████████████████████████████████████████▋                     | 73/100 [1:23:53<26:33, 59.02s/it]INFO:root:\n",
      " Processing file 12___75eedbdebeb047d1b79396fa9bc77789.mp4 using Qwen 2.5 VL on Pytorch XPU..\n",
      "INFO:qwen_vl_utils.vision_process:decord:  video_path='SVW_subset_video_dataset\\\\swimming\\\\12___75eedbdebeb047d1b79396fa9bc77789.mp4', total_frames=184, video_fps=30.0, time=0.004s\n",
      "INFO:root: Generated description: The video shows a close-up of a swimmer's arm performing the butterfly stroke in a pool. The swimmer's hand is extended forward, with the thumb and index finger pointing towards the bottom of the frame. The arm is slightly bent at the elbow, and the hand is positioned in a way that suggests the swimmer is in the middle of a stroke cycle. The water is clear, and the swimmer's arm is moving through it, creating ripples and small waves. The video captures the fluid motion and technique of the butterfly stroke, highlighting the swimmer's arm movement and the water's interaction with the hand..\n",
      "\n"
     ]
    },
    {
     "data": {
      "application/vnd.jupyter.widget-view+json": {
       "model_id": "4da3bd25c5df419faed4cf2d5397fe3e",
       "version_major": 2,
       "version_minor": 0
      },
      "text/plain": [
       "Batches:   0%|          | 0/1 [00:00<?, ?it/s]"
      ]
     },
     "metadata": {},
     "output_type": "display_data"
    },
    {
     "name": "stderr",
     "output_type": "stream",
     "text": [
      "INFO:root: Added 12___75eedbdebeb047d1b79396fa9bc77789.mp4 video file description to database\n",
      "\n",
      " ******\n",
      " 74%|██████████████████████████████████████████████████████████▍                    | 74/100 [1:25:22<29:29, 68.07s/it]INFO:root:\n",
      " Processing file 166___70837b12ec39433a91d6bd547a216819.mp4 using Qwen 2.5 VL on Pytorch XPU..\n",
      "INFO:qwen_vl_utils.vision_process:decord:  video_path='SVW_subset_video_dataset\\\\hockey\\\\166___70837b12ec39433a91d6bd547a216819.mp4', total_frames=339, video_fps=30.0, time=0.008s\n",
      "INFO:root: Generated description: The video captures an ice hockey game in progress, with players on the ice and a goalie in position to block shots. The players are spread out across the ice, with some closer to the boards and others near the center of the rink. The goalie is standing in front of the net, ready to react to any shots that come his way. The camera angle is from the side of the rink, providing a clear view of the action on the ice. The lighting is bright, illuminating the ice and the players clearly. The sound of the puck hitting the ice and the players' movements can be heard in the background..\n",
      "\n"
     ]
    },
    {
     "data": {
      "application/vnd.jupyter.widget-view+json": {
       "model_id": "7719100389874f6f841d8fd46fe95faa",
       "version_major": 2,
       "version_minor": 0
      },
      "text/plain": [
       "Batches:   0%|          | 0/1 [00:00<?, ?it/s]"
      ]
     },
     "metadata": {},
     "output_type": "display_data"
    },
    {
     "name": "stderr",
     "output_type": "stream",
     "text": [
      "INFO:root: Added 166___70837b12ec39433a91d6bd547a216819.mp4 video file description to database\n",
      "\n",
      " ******\n",
      " 75%|███████████████████████████████████████████████████████████▎                   | 75/100 [1:26:54<31:18, 75.12s/it]INFO:root:\n",
      " Processing file 175___5618d2991ac34351b871caf14ae4b4d4.mp4 using Qwen 2.5 VL on Pytorch XPU..\n",
      "INFO:qwen_vl_utils.vision_process:decord:  video_path='SVW_subset_video_dataset\\\\soccer\\\\175___5618d2991ac34351b871caf14ae4b4d4.mp4', total_frames=514, video_fps=30.0, time=0.000s\n",
      "INFO:root: Generated description: The video shows a group of young children playing soccer on a grassy field. They are wearing colorful jerseys and shorts, and the field is surrounded by a fence. The children are running around and kicking the ball, and they seem to be enjoying themselves. The video captures the energy and excitement of the game, as well as the camaraderie among the players..\n",
      "\n"
     ]
    },
    {
     "data": {
      "application/vnd.jupyter.widget-view+json": {
       "model_id": "4437aa36f4a340fdb4cd692c9486c5bb",
       "version_major": 2,
       "version_minor": 0
      },
      "text/plain": [
       "Batches:   0%|          | 0/1 [00:00<?, ?it/s]"
      ]
     },
     "metadata": {},
     "output_type": "display_data"
    },
    {
     "name": "stderr",
     "output_type": "stream",
     "text": [
      "INFO:root: Added 175___5618d2991ac34351b871caf14ae4b4d4.mp4 video file description to database\n",
      "\n",
      " ******\n",
      " 76%|████████████████████████████████████████████████████████████                   | 76/100 [1:27:50<27:48, 69.52s/it]INFO:root:\n",
      " Processing file 67___849dd6800cc745338cd5ce328def2a1c.mp4 using Qwen 2.5 VL on Pytorch XPU..\n",
      "INFO:qwen_vl_utils.vision_process:decord:  video_path='SVW_subset_video_dataset\\\\weight\\\\67___849dd6800cc745338cd5ce328def2a1c.mp4', total_frames=624, video_fps=30.0, time=0.005s\n",
      "INFO:root: Generated description: A woman in a green tank top and black leggings is performing a barbell clean and jerk exercise in a gym. She starts by bending down to grip the barbell, then lifts it up to her shoulders, and finally lifts it over her head. She repeats this movement several times. The gym is equipped with various weightlifting equipment and weights hanging on the wall..\n",
      "\n"
     ]
    },
    {
     "data": {
      "application/vnd.jupyter.widget-view+json": {
       "model_id": "16a6fd44ddfb4b3f83c64db1c53f617c",
       "version_major": 2,
       "version_minor": 0
      },
      "text/plain": [
       "Batches:   0%|          | 0/1 [00:00<?, ?it/s]"
      ]
     },
     "metadata": {},
     "output_type": "display_data"
    },
    {
     "name": "stderr",
     "output_type": "stream",
     "text": [
      "INFO:root: Added 67___849dd6800cc745338cd5ce328def2a1c.mp4 video file description to database\n",
      "\n",
      " ******\n",
      " 77%|████████████████████████████████████████████████████████████▊                  | 77/100 [1:28:48<25:20, 66.12s/it]INFO:root:\n",
      " Processing file 61___7fbebddcdd27444a85e0a5df0ccf9564.mp4 using Qwen 2.5 VL on Pytorch XPU..\n",
      "INFO:qwen_vl_utils.vision_process:decord:  video_path='SVW_subset_video_dataset\\\\football\\\\61___7fbebddcdd27444a85e0a5df0ccf9564.mp4', total_frames=126, video_fps=30.0, time=0.016s\n",
      "INFO:root: Generated description: The video shows a football player in a blue jersey and black shorts preparing to throw a football on a football field. The player is standing near the sideline, with the goalposts visible in the background. The sky is clear and sunny, indicating that it is likely daytime. The player appears to be focused and ready to make a throw..\n",
      "\n"
     ]
    },
    {
     "data": {
      "application/vnd.jupyter.widget-view+json": {
       "model_id": "bfc52b2dd6224476bdc5d2bece4a9623",
       "version_major": 2,
       "version_minor": 0
      },
      "text/plain": [
       "Batches:   0%|          | 0/1 [00:00<?, ?it/s]"
      ]
     },
     "metadata": {},
     "output_type": "display_data"
    },
    {
     "name": "stderr",
     "output_type": "stream",
     "text": [
      "INFO:root: Added 61___7fbebddcdd27444a85e0a5df0ccf9564.mp4 video file description to database\n",
      "\n",
      " ******\n",
      " 78%|█████████████████████████████████████████████████████████████▌                 | 78/100 [1:29:37<22:19, 60.87s/it]INFO:root:\n",
      " Processing file 68___f3a86f4ec02841eea04b3cf7a9e40de2.mp4 using Qwen 2.5 VL on Pytorch XPU..\n",
      "INFO:qwen_vl_utils.vision_process:decord:  video_path='SVW_subset_video_dataset\\\\boxing\\\\68___f3a86f4ec02841eea04b3cf7a9e40de2.mp4', total_frames=948, video_fps=30.0, time=0.022s\n",
      "INFO:root: Generated description: A man and a woman are sparring in a gym. The man is wearing a white shirt and black shorts, while the woman is wearing a blue shirt and black leggings. They are both wearing boxing gloves and are standing in a fighting stance. The man is throwing punches at the woman, who is blocking them with her hands. The woman is also throwing punches back at the man. They are both moving around the gym, dodging and weaving as they fight..\n",
      "\n"
     ]
    },
    {
     "data": {
      "application/vnd.jupyter.widget-view+json": {
       "model_id": "8722e3f20cb341bc9f3ed1a0be2ba252",
       "version_major": 2,
       "version_minor": 0
      },
      "text/plain": [
       "Batches:   0%|          | 0/1 [00:00<?, ?it/s]"
      ]
     },
     "metadata": {},
     "output_type": "display_data"
    },
    {
     "name": "stderr",
     "output_type": "stream",
     "text": [
      "INFO:root: Added 68___f3a86f4ec02841eea04b3cf7a9e40de2.mp4 video file description to database\n",
      "\n",
      " ******\n",
      " 79%|██████████████████████████████████████████████████████████████▍                | 79/100 [1:30:57<23:19, 66.62s/it]INFO:root:\n",
      " Processing file 334___f632cff42b2545f2ba9023e1aca7512e.mp4 using Qwen 2.5 VL on Pytorch XPU..\n",
      "INFO:qwen_vl_utils.vision_process:decord:  video_path='SVW_subset_video_dataset\\\\diving\\\\334___f632cff42b2545f2ba9023e1aca7512e.mp4', total_frames=158, video_fps=30.0, time=0.012s\n",
      "INFO:root: Generated description: The video captures a young girl diving into an indoor swimming pool. She stands on the edge of a diving board, preparing to jump. As she leaps off the board, she performs a flip in the air before entering the water with a splash. The camera follows her as she dives, capturing the motion and the sound of the water..\n",
      "\n"
     ]
    },
    {
     "data": {
      "application/vnd.jupyter.widget-view+json": {
       "model_id": "af44884e30e54d0d8c844892b55f8f1a",
       "version_major": 2,
       "version_minor": 0
      },
      "text/plain": [
       "Batches:   0%|          | 0/1 [00:00<?, ?it/s]"
      ]
     },
     "metadata": {},
     "output_type": "display_data"
    },
    {
     "name": "stderr",
     "output_type": "stream",
     "text": [
      "INFO:root: Added 334___f632cff42b2545f2ba9023e1aca7512e.mp4 video file description to database\n",
      "\n",
      " ******\n",
      " 80%|███████████████████████████████████████████████████████████████▏               | 80/100 [1:31:46<20:25, 61.29s/it]INFO:root:\n",
      " Processing file 27___005a928b047c4cd48374c17362ddf8e1.mp4 using Qwen 2.5 VL on Pytorch XPU..\n",
      "INFO:qwen_vl_utils.vision_process:decord:  video_path='SVW_subset_video_dataset\\\\golf\\\\27___005a928b047c4cd48374c17362ddf8e1.mp4', total_frames=127, video_fps=30.0, time=0.000s\n",
      "INFO:root: Generated description: A golfer in a bright yellow shirt and blue jeans is practicing her putting on a well-maintained golf course. She stands on the green, holding a putter with both hands, and takes a few practice swings to get a feel for the ball's flight. The sky is clear and sunny, casting sharp shadows on the grass..\n",
      "\n"
     ]
    },
    {
     "data": {
      "application/vnd.jupyter.widget-view+json": {
       "model_id": "9c66e009c75b4dbeb1e76002f6a8f00c",
       "version_major": 2,
       "version_minor": 0
      },
      "text/plain": [
       "Batches:   0%|          | 0/1 [00:00<?, ?it/s]"
      ]
     },
     "metadata": {},
     "output_type": "display_data"
    },
    {
     "name": "stderr",
     "output_type": "stream",
     "text": [
      "INFO:root: Added 27___005a928b047c4cd48374c17362ddf8e1.mp4 video file description to database\n",
      "\n",
      " ******\n",
      " 81%|███████████████████████████████████████████████████████████████▉               | 81/100 [1:32:35<18:16, 57.73s/it]INFO:root:\n",
      " Processing file 488___908f3854c6974b9fb6af4ab4a3c4ee16.mp4 using Qwen 2.5 VL on Pytorch XPU..\n",
      "INFO:qwen_vl_utils.vision_process:decord:  video_path='SVW_subset_video_dataset\\\\skiing\\\\488___908f3854c6974b9fb6af4ab4a3c4ee16.mp4', total_frames=100, video_fps=30.0, time=0.000s\n",
      "INFO:root: Generated description: The video captures a thrilling snowboarding scene on a snowy mountain slope. A snowboarder, dressed in a red jacket and black pants, is seen performing a jump off a ramp. The snowboarder launches into the air, executing a backflip before landing smoothly on the snow. The camera follows the snowboarder's descent down the slope, showcasing the vast, snow-covered landscape and the surrounding trees. The video highlights the snowboarder's skill and the exhilarating experience of snowboarding in a beautiful winter setting..\n",
      "\n"
     ]
    },
    {
     "data": {
      "application/vnd.jupyter.widget-view+json": {
       "model_id": "3679f159743c41468561053c80ee8cae",
       "version_major": 2,
       "version_minor": 0
      },
      "text/plain": [
       "Batches:   0%|          | 0/1 [00:00<?, ?it/s]"
      ]
     },
     "metadata": {},
     "output_type": "display_data"
    },
    {
     "name": "stderr",
     "output_type": "stream",
     "text": [
      "INFO:root: Added 488___908f3854c6974b9fb6af4ab4a3c4ee16.mp4 video file description to database\n",
      "\n",
      " ******\n",
      " 82%|████████████████████████████████████████████████████████████████▊              | 82/100 [1:33:50<18:51, 62.88s/it]INFO:root:\n",
      " Processing file 50___4d4579b5a56e48e5bba6acbbe98d07b8.mp4 using Qwen 2.5 VL on Pytorch XPU..\n",
      "INFO:qwen_vl_utils.vision_process:decord:  video_path='SVW_subset_video_dataset\\\\volleyball\\\\50___4d4579b5a56e48e5bba6acbbe98d07b8.mp4', total_frames=213, video_fps=30.0, time=0.000s\n",
      "INFO:root: Generated description: The video shows a basketball game in progress on a court with the words \"Garcés Memorial\" visible above the backboard. The players are actively engaged in the game, with one player dribbling the ball and another player attempting to block or defend against him. The scene captures the intensity and action of a basketball game, with players moving quickly and dynamically across the court..\n",
      "\n"
     ]
    },
    {
     "data": {
      "application/vnd.jupyter.widget-view+json": {
       "model_id": "9332c899457e4141be10894c0e55ae3d",
       "version_major": 2,
       "version_minor": 0
      },
      "text/plain": [
       "Batches:   0%|          | 0/1 [00:00<?, ?it/s]"
      ]
     },
     "metadata": {},
     "output_type": "display_data"
    },
    {
     "name": "stderr",
     "output_type": "stream",
     "text": [
      "INFO:root: Added 50___4d4579b5a56e48e5bba6acbbe98d07b8.mp4 video file description to database\n",
      "\n",
      " ******\n",
      " 83%|█████████████████████████████████████████████████████████████████▌             | 83/100 [1:34:44<17:04, 60.27s/it]INFO:root:\n",
      " Processing file 144___e74e37d5724c4445ba95e0cc70573fad.mp4 using Qwen 2.5 VL on Pytorch XPU..\n",
      "INFO:qwen_vl_utils.vision_process:decord:  video_path='SVW_subset_video_dataset\\\\hockey\\\\144___e74e37d5724c4445ba95e0cc70573fad.mp4', total_frames=1500, video_fps=30.0, time=0.013s\n",
      "INFO:root: Generated description: A young man is performing a barbell squat in a gym. He is wearing a black shirt and blue shorts, and he has a weightlifting belt around his waist. He is holding the barbell with both hands, and he is squatting down by bending his knees and lowering his hips. He is using his legs to do the work, and he is not using any other muscles. He is doing this exercise for strength training..\n",
      "\n"
     ]
    },
    {
     "data": {
      "application/vnd.jupyter.widget-view+json": {
       "model_id": "e9da5e097fab4c0daf9f33fcaf0f0b30",
       "version_major": 2,
       "version_minor": 0
      },
      "text/plain": [
       "Batches:   0%|          | 0/1 [00:00<?, ?it/s]"
      ]
     },
     "metadata": {},
     "output_type": "display_data"
    },
    {
     "name": "stderr",
     "output_type": "stream",
     "text": [
      "INFO:root: Added 144___e74e37d5724c4445ba95e0cc70573fad.mp4 video file description to database\n",
      "\n",
      " ******\n",
      " 84%|██████████████████████████████████████████████████████████████████▎            | 84/100 [1:36:13<18:22, 68.90s/it]INFO:root:\n",
      " Processing file 102___0b361fecc6ff46218c69f263ab859cbe.mp4 using Qwen 2.5 VL on Pytorch XPU..\n",
      "INFO:qwen_vl_utils.vision_process:decord:  video_path='SVW_subset_video_dataset\\\\highjump\\\\102___0b361fecc6ff46218c69f263ab859cbe.mp4', total_frames=292, video_fps=30.0, time=0.000s\n",
      "INFO:root: Generated description: The video shows a group of people gathered in an indoor setting, likely a gym or training facility. There is a banner on the wall that reads \"TRENDY TONIGHT,\" suggesting that this might be a special event or a themed session. A person in a white shirt and black pants is seen running across the room, possibly participating in a warm-up exercise or demonstration. Another individual is sitting on a bench, observing the activity. The environment appears to be well-lit and organized, with various equipment and mats visible in the background..\n",
      "\n"
     ]
    },
    {
     "data": {
      "application/vnd.jupyter.widget-view+json": {
       "model_id": "5e97ed9a9cab44c585aae8ea6c9cd86b",
       "version_major": 2,
       "version_minor": 0
      },
      "text/plain": [
       "Batches:   0%|          | 0/1 [00:00<?, ?it/s]"
      ]
     },
     "metadata": {},
     "output_type": "display_data"
    },
    {
     "name": "stderr",
     "output_type": "stream",
     "text": [
      "INFO:root: Added 102___0b361fecc6ff46218c69f263ab859cbe.mp4 video file description to database\n",
      "\n",
      " ******\n",
      " 85%|███████████████████████████████████████████████████████████████████▏           | 85/100 [1:37:32<17:57, 71.84s/it]INFO:root:\n",
      " Processing file 552___67b033cd35284b0cb3b283d16ef30d31.mp4 using Qwen 2.5 VL on Pytorch XPU..\n",
      "INFO:qwen_vl_utils.vision_process:decord:  video_path='SVW_subset_video_dataset\\\\shotput\\\\552___67b033cd35284b0cb3b283d16ef30d31.mp4', total_frames=159, video_fps=30.0, time=0.000s\n",
      "INFO:root: Generated description: The video shows a young woman practicing the shot put throw at an outdoor track and field facility. She is standing in a designated throwing area, which is marked on the ground with a curved line. The woman is wearing a white tank top, black shorts, and athletic shoes. She has her hair tied back in a ponytail. She is holding a shot put in her right hand and is preparing to throw it. She takes a few steps back and then throws the shot put with a powerful motion. The shot put flies through the air and lands in the designated landing area. The woman then walks over to retrieve the shot put and prepares for.\n",
      "\n"
     ]
    },
    {
     "data": {
      "application/vnd.jupyter.widget-view+json": {
       "model_id": "a787f29e4bed45a784717d4184b27b21",
       "version_major": 2,
       "version_minor": 0
      },
      "text/plain": [
       "Batches:   0%|          | 0/1 [00:00<?, ?it/s]"
      ]
     },
     "metadata": {},
     "output_type": "display_data"
    },
    {
     "name": "stderr",
     "output_type": "stream",
     "text": [
      "INFO:root: Added 552___67b033cd35284b0cb3b283d16ef30d31.mp4 video file description to database\n",
      "\n",
      " ******\n",
      " 86%|███████████████████████████████████████████████████████████████████▉           | 86/100 [1:39:02<18:01, 77.28s/it]INFO:root:\n",
      " Processing file 20___2932ac6d65eb439eaaec362f17f6ac70.mp4 using Qwen 2.5 VL on Pytorch XPU..\n",
      "INFO:qwen_vl_utils.vision_process:decord:  video_path='SVW_subset_video_dataset\\\\javelin\\\\20___2932ac6d65eb439eaaec362f17f6ac70.mp4', total_frames=55, video_fps=30.0, time=0.000s\n",
      "INFO:root: Generated description: The video shows a track and field event, likely a long jump or triple jump competition. A male athlete is in the middle of his jump, with his body extended forward and his legs bent at the knees. He appears to be in mid-air, having just launched off the takeoff board. \n",
      "\n",
      "There are two other individuals present: one standing on the track, possibly an official or coach, and another person standing near the takeoff board, also likely an official or coach. The background includes a red track surface, a gravel area, and some trees and buildings in the distance. The sky is clear with a few clouds..\n",
      "\n"
     ]
    },
    {
     "data": {
      "application/vnd.jupyter.widget-view+json": {
       "model_id": "d0dcc0c5253c49afa49be99ae889abc0",
       "version_major": 2,
       "version_minor": 0
      },
      "text/plain": [
       "Batches:   0%|          | 0/1 [00:00<?, ?it/s]"
      ]
     },
     "metadata": {},
     "output_type": "display_data"
    },
    {
     "name": "stderr",
     "output_type": "stream",
     "text": [
      "INFO:root: Added 20___2932ac6d65eb439eaaec362f17f6ac70.mp4 video file description to database\n",
      "\n",
      " ******\n",
      " 87%|████████████████████████████████████████████████████████████████████▋          | 87/100 [1:40:31<17:31, 80.88s/it]INFO:root:\n",
      " Processing file 153___9278e7841c8c45ab900717f3c1589b77.mp4 using Qwen 2.5 VL on Pytorch XPU..\n",
      "INFO:qwen_vl_utils.vision_process:decord:  video_path='SVW_subset_video_dataset\\\\javelin\\\\153___9278e7841c8c45ab900717f3c1589b77.mp4', total_frames=325, video_fps=30.0, time=0.016s\n",
      "INFO:root: Generated description: The video captures a group of children playing baseball on a field at dusk. The sky is dim, and the sun is setting in the background, casting a warm glow over the scene. The children are scattered across the field, with some running and others standing still. One child in a red shirt is throwing a ball, while another child in a white shirt is catching it. The field is surrounded by trees, and there is a building in the background. The overall atmosphere is lively and energetic..\n",
      "\n"
     ]
    },
    {
     "data": {
      "application/vnd.jupyter.widget-view+json": {
       "model_id": "0384bb121ea74f6a9259bf1d454f79b9",
       "version_major": 2,
       "version_minor": 0
      },
      "text/plain": [
       "Batches:   0%|          | 0/1 [00:00<?, ?it/s]"
      ]
     },
     "metadata": {},
     "output_type": "display_data"
    },
    {
     "name": "stderr",
     "output_type": "stream",
     "text": [
      "INFO:root: Added 153___9278e7841c8c45ab900717f3c1589b77.mp4 video file description to database\n",
      "\n",
      " ******\n",
      " 88%|█████████████████████████████████████████████████████████████████████▌         | 88/100 [1:41:44<15:40, 78.37s/it]INFO:root:\n",
      " Processing file 51___8b4bb2cf2e8b4810a10c6568bb99e4e1.mp4 using Qwen 2.5 VL on Pytorch XPU..\n",
      "INFO:qwen_vl_utils.vision_process:decord:  video_path='SVW_subset_video_dataset\\\\basketball\\\\51___8b4bb2cf2e8b4810a10c6568bb99e4e1.mp4', total_frames=255, video_fps=30.0, time=0.016s\n",
      "INFO:root: Generated description: The video shows a young boy playing basketball in a park. He is dribbling the ball and taking shots at the basket. The park has a playground in the background, with a swing set and a slide visible. The boy is wearing a white shirt and blue shorts. The video captures the boy's movements as he plays, including his dribbling and shooting techniques..\n",
      "\n"
     ]
    },
    {
     "data": {
      "application/vnd.jupyter.widget-view+json": {
       "model_id": "fab370edec7140bbab3b8a63dd4b1a6b",
       "version_major": 2,
       "version_minor": 0
      },
      "text/plain": [
       "Batches:   0%|          | 0/1 [00:00<?, ?it/s]"
      ]
     },
     "metadata": {},
     "output_type": "display_data"
    },
    {
     "name": "stderr",
     "output_type": "stream",
     "text": [
      "INFO:root: Added 51___8b4bb2cf2e8b4810a10c6568bb99e4e1.mp4 video file description to database\n",
      "\n",
      " ******\n",
      " 89%|██████████████████████████████████████████████████████████████████████▎        | 89/100 [1:42:37<12:57, 70.69s/it]INFO:root:\n",
      " Processing file 108___a4e0b1498e004756bd1e5b106dc62d35.mp4 using Qwen 2.5 VL on Pytorch XPU..\n",
      "INFO:qwen_vl_utils.vision_process:decord:  video_path='SVW_subset_video_dataset\\\\skating\\\\108___a4e0b1498e004756bd1e5b106dc62d35.mp4', total_frames=241, video_fps=30.0, time=0.000s\n",
      "INFO:root: Generated description: The video shows a young boy ice skating on an indoor rink. He is wearing a red jacket and black pants, and he appears to be practicing his skating skills. The rink is well-lit and has a smooth surface, allowing the boy to glide easily. He is moving his arms out to the sides for balance and is looking ahead as he skates. The background shows other people on the rink, but they are not the focus of the video. The overall atmosphere is one of enjoyment and skill development..\n",
      "\n"
     ]
    },
    {
     "data": {
      "application/vnd.jupyter.widget-view+json": {
       "model_id": "d80f75d9ce3645a99ea819e971c62651",
       "version_major": 2,
       "version_minor": 0
      },
      "text/plain": [
       "Batches:   0%|          | 0/1 [00:00<?, ?it/s]"
      ]
     },
     "metadata": {},
     "output_type": "display_data"
    },
    {
     "name": "stderr",
     "output_type": "stream",
     "text": [
      "INFO:root: Added 108___a4e0b1498e004756bd1e5b106dc62d35.mp4 video file description to database\n",
      "\n",
      " ******\n",
      " 90%|███████████████████████████████████████████████████████████████████████        | 90/100 [1:43:51<11:58, 71.89s/it]INFO:root:\n",
      " Processing file 797___74378f48683c4f43ba3ef0c58fcab4b3.mp4 using Qwen 2.5 VL on Pytorch XPU..\n",
      "INFO:qwen_vl_utils.vision_process:decord:  video_path='SVW_subset_video_dataset\\\\skiing\\\\797___74378f48683c4f43ba3ef0c58fcab4b3.mp4', total_frames=140, video_fps=30.0, time=0.000s\n",
      "INFO:root: Generated description: The video captures a skier gliding down a snowy slope, their skis carving through the snow as they navigate the terrain. The skier's movements are fluid and graceful, their body leaning into each turn as they make their way down the hill. The snow is pristine and untouched, with only a few tracks visible from other skiers who have come before. The skier's poles are planted firmly in the snow, providing balance and control as they make their way down the slope. The sound of the skis cutting through the snow can be heard, adding to the sense of speed and excitement. Overall, the video is a beautiful.\n",
      "\n"
     ]
    },
    {
     "data": {
      "application/vnd.jupyter.widget-view+json": {
       "model_id": "501a0ee17bf8439ab8eb8ccce6502bfe",
       "version_major": 2,
       "version_minor": 0
      },
      "text/plain": [
       "Batches:   0%|          | 0/1 [00:00<?, ?it/s]"
      ]
     },
     "metadata": {},
     "output_type": "display_data"
    },
    {
     "name": "stderr",
     "output_type": "stream",
     "text": [
      "INFO:root: Added 797___74378f48683c4f43ba3ef0c58fcab4b3.mp4 video file description to database\n",
      "\n",
      " ******\n",
      " 91%|███████████████████████████████████████████████████████████████████████▉       | 91/100 [1:45:21<11:35, 77.29s/it]INFO:root:\n",
      " Processing file 325___4097661c7d0e4d80b085920e3fa0dfd9.mp4 using Qwen 2.5 VL on Pytorch XPU..\n",
      "INFO:qwen_vl_utils.vision_process:decord:  video_path='SVW_subset_video_dataset\\\\bowling\\\\325___4097661c7d0e4d80b085920e3fa0dfd9.mp4', total_frames=105, video_fps=30.0, time=0.000s\n",
      "INFO:root: Generated description: The video captures a lively bowling alley scene. A young boy, dressed in a black shirt and gray shorts, is seen preparing to bowl. He stands on the lane, holding a bowling ball in his right hand, and takes a few steps forward. The camera follows his movements as he swings the ball back behind his head, getting ready to release it down the lane. In the background, other people can be seen, some of whom are also bowling. The atmosphere appears to be fun and energetic, with the sound of bowling balls rolling down the lanes adding to the excitement..\n",
      "\n"
     ]
    },
    {
     "data": {
      "application/vnd.jupyter.widget-view+json": {
       "model_id": "e9e59a4346ce490e915a63d0bfa8dbf3",
       "version_major": 2,
       "version_minor": 0
      },
      "text/plain": [
       "Batches:   0%|          | 0/1 [00:00<?, ?it/s]"
      ]
     },
     "metadata": {},
     "output_type": "display_data"
    },
    {
     "name": "stderr",
     "output_type": "stream",
     "text": [
      "INFO:root: Added 325___4097661c7d0e4d80b085920e3fa0dfd9.mp4 video file description to database\n",
      "\n",
      " ******\n",
      " 92%|████████████████████████████████████████████████████████████████████████▋      | 92/100 [1:46:43<10:28, 78.56s/it]INFO:root:\n",
      " Processing file 179___7ffe0656ce7c4a6b93ffd16fbf7c0eb3.mp4 using Qwen 2.5 VL on Pytorch XPU..\n",
      "INFO:qwen_vl_utils.vision_process:decord:  video_path='SVW_subset_video_dataset\\\\shotput\\\\179___7ffe0656ce7c4a6b93ffd16fbf7c0eb3.mp4', total_frames=594, video_fps=30.0, time=0.017s\n",
      "INFO:root: Generated description: A man in a white tank top and red shorts stands on a circular platform, preparing to throw a shot put. He takes a few steps back, then spins around, building momentum. He releases the shot put with a powerful throw, sending it flying through the air. The camera follows the shot put as it soars through the air, landing in the distance..\n",
      "\n"
     ]
    },
    {
     "data": {
      "application/vnd.jupyter.widget-view+json": {
       "model_id": "6dfd3044df894f0198dceaeda22bae8e",
       "version_major": 2,
       "version_minor": 0
      },
      "text/plain": [
       "Batches:   0%|          | 0/1 [00:00<?, ?it/s]"
      ]
     },
     "metadata": {},
     "output_type": "display_data"
    },
    {
     "name": "stderr",
     "output_type": "stream",
     "text": [
      "INFO:root: Added 179___7ffe0656ce7c4a6b93ffd16fbf7c0eb3.mp4 video file description to database\n",
      "\n",
      " ******\n",
      " 93%|█████████████████████████████████████████████████████████████████████████▍     | 93/100 [1:47:41<08:26, 72.38s/it]INFO:root:\n",
      " Processing file 298___dba56a1d93f84561927e5881edf0c670.mp4 using Qwen 2.5 VL on Pytorch XPU..\n",
      "INFO:qwen_vl_utils.vision_process:decord:  video_path='SVW_subset_video_dataset\\\\archery\\\\298___dba56a1d93f84561927e5881edf0c670.mp4', total_frames=332, video_fps=30.0, time=0.000s\n",
      "INFO:root: Generated description: A person in a wheelchair is practicing archery. They are holding a bow and arrow, aiming at a target. The person is wearing a blue shirt and black shorts. There is a white tent in the background..\n",
      "\n"
     ]
    },
    {
     "data": {
      "application/vnd.jupyter.widget-view+json": {
       "model_id": "be9de916ac7b4bf998c0e6a7ea568d6f",
       "version_major": 2,
       "version_minor": 0
      },
      "text/plain": [
       "Batches:   0%|          | 0/1 [00:00<?, ?it/s]"
      ]
     },
     "metadata": {},
     "output_type": "display_data"
    },
    {
     "name": "stderr",
     "output_type": "stream",
     "text": [
      "INFO:root: Added 298___dba56a1d93f84561927e5881edf0c670.mp4 video file description to database\n",
      "\n",
      " ******\n",
      " 94%|██████████████████████████████████████████████████████████████████████████▎    | 94/100 [1:48:14<06:05, 60.84s/it]INFO:root:\n",
      " Processing file 7___243cc23e4b2f47e1893f09863845b934.mp4 using Qwen 2.5 VL on Pytorch XPU..\n",
      "INFO:qwen_vl_utils.vision_process:decord:  video_path='SVW_subset_video_dataset\\\\hockey\\\\7___243cc23e4b2f47e1893f09863845b934.mp4', total_frames=1258, video_fps=30.0, time=0.019s\n",
      "INFO:root: Generated description: A group of young hockey players are practicing on an ice rink. They are skating around the rink, passing the puck to each other and trying to score goals. The players are wearing different colored jerseys and are using their hockey sticks to control the puck. The rink is well-lit and has a glass wall that separates the players from the audience. There are also some spectators watching the practice from the stands..\n",
      "\n"
     ]
    },
    {
     "data": {
      "application/vnd.jupyter.widget-view+json": {
       "model_id": "e94451b01df0452f89d6d2e5efd7dd95",
       "version_major": 2,
       "version_minor": 0
      },
      "text/plain": [
       "Batches:   0%|          | 0/1 [00:00<?, ?it/s]"
      ]
     },
     "metadata": {},
     "output_type": "display_data"
    },
    {
     "name": "stderr",
     "output_type": "stream",
     "text": [
      "INFO:root: Added 7___243cc23e4b2f47e1893f09863845b934.mp4 video file description to database\n",
      "\n",
      " ******\n",
      " 95%|███████████████████████████████████████████████████████████████████████████    | 95/100 [1:49:33<05:30, 66.15s/it]INFO:root:\n",
      " Processing file 306___293f5089adc54ab39c866226e68ea866.mp4 using Qwen 2.5 VL on Pytorch XPU..\n",
      "INFO:qwen_vl_utils.vision_process:decord:  video_path='SVW_subset_video_dataset\\\\rowing\\\\306___293f5089adc54ab39c866226e68ea866.mp4', total_frames=671, video_fps=30.0, time=0.017s\n",
      "INFO:root: Generated description: A man in a red tank top and shorts is using a rowing machine in a gym. He is sitting on the machine with his feet on the footrests, holding onto the handlebars, and pulling them towards him. He is moving his legs back and forth as he rows. The gym has large windows that look out onto a lake. There are other people in the background, but they are not the focus of the video..\n",
      "\n"
     ]
    },
    {
     "data": {
      "application/vnd.jupyter.widget-view+json": {
       "model_id": "8046fa6fe917494fb5cfd9d27011f866",
       "version_major": 2,
       "version_minor": 0
      },
      "text/plain": [
       "Batches:   0%|          | 0/1 [00:00<?, ?it/s]"
      ]
     },
     "metadata": {},
     "output_type": "display_data"
    },
    {
     "name": "stderr",
     "output_type": "stream",
     "text": [
      "INFO:root: Added 306___293f5089adc54ab39c866226e68ea866.mp4 video file description to database\n",
      "\n",
      " ******\n",
      " 96%|███████████████████████████████████████████████████████████████████████████▊   | 96/100 [1:50:44<04:29, 67.45s/it]INFO:root:\n",
      " Processing file 49___9e25e3a078404687837d2c7b7ed34e45.mp4 using Qwen 2.5 VL on Pytorch XPU..\n",
      "INFO:qwen_vl_utils.vision_process:decord:  video_path='SVW_subset_video_dataset\\\\basketball\\\\49___9e25e3a078404687837d2c7b7ed34e45.mp4', total_frames=137, video_fps=30.0, time=0.006s\n",
      "INFO:root: Generated description: The video captures a basketball practice session in an indoor gymnasium. The players are wearing red jerseys and white shorts, indicating they are part of the same team. The gym has a polished wooden floor with blue and white markings, typical of a basketball court. The walls are painted blue, and there is a large logo on the wall, possibly representing the school or organization hosting the practice. The players are engaged in various drills, including passing, shooting, and defensive maneuvers. The atmosphere is focused and energetic, with players demonstrating good form and teamwork..\n",
      "\n"
     ]
    },
    {
     "data": {
      "application/vnd.jupyter.widget-view+json": {
       "model_id": "a528040b3f354e039ee5c8a2c9219aab",
       "version_major": 2,
       "version_minor": 0
      },
      "text/plain": [
       "Batches:   0%|          | 0/1 [00:00<?, ?it/s]"
      ]
     },
     "metadata": {},
     "output_type": "display_data"
    },
    {
     "name": "stderr",
     "output_type": "stream",
     "text": [
      "INFO:root: Added 49___9e25e3a078404687837d2c7b7ed34e45.mp4 video file description to database\n",
      "\n",
      " ******\n",
      " 97%|████████████████████████████████████████████████████████████████████████████▋  | 97/100 [1:52:02<03:32, 70.76s/it]INFO:root:\n",
      " Processing file 2___59589caa29034f41b53e0aa19227a519.mp4 using Qwen 2.5 VL on Pytorch XPU..\n",
      "INFO:qwen_vl_utils.vision_process:decord:  video_path='SVW_subset_video_dataset\\\\volleyball\\\\2___59589caa29034f41b53e0aa19227a519.mp4', total_frames=386, video_fps=30.0, time=0.000s\n",
      "INFO:root: Generated description: The video captures a basketball game in progress, with players on the court actively engaged in the game. The scoreboard shows that the game is tied at 11-11 with 0:00 remaining in the period. The players are wearing different colored uniforms, and the gymnasium has a basketball hoop and a scoreboard displaying the score. The players are dribbling, passing, and shooting the ball, and the game appears to be intense and competitive..\n",
      "\n"
     ]
    },
    {
     "data": {
      "application/vnd.jupyter.widget-view+json": {
       "model_id": "5bb84ba361f94566a2f5742350e62325",
       "version_major": 2,
       "version_minor": 0
      },
      "text/plain": [
       "Batches:   0%|          | 0/1 [00:00<?, ?it/s]"
      ]
     },
     "metadata": {},
     "output_type": "display_data"
    },
    {
     "name": "stderr",
     "output_type": "stream",
     "text": [
      "INFO:root: Added 2___59589caa29034f41b53e0aa19227a519.mp4 video file description to database\n",
      "\n",
      " ******\n",
      " 98%|█████████████████████████████████████████████████████████████████████████████▍ | 98/100 [1:53:11<02:20, 70.09s/it]INFO:root:\n",
      " Processing file 58___bed1133eca984767a67a1e8e68160a47.mp4 using Qwen 2.5 VL on Pytorch XPU..\n",
      "INFO:qwen_vl_utils.vision_process:decord:  video_path='SVW_subset_video_dataset\\\\gymnastics\\\\58___bed1133eca984767a67a1e8e68160a47.mp4', total_frames=218, video_fps=30.0, time=0.016s\n",
      "INFO:root: Generated description: The video shows an indoor trampoline park with various trampolines and equipment. A young boy is seen jumping on one of the trampolines, performing flips and tricks. The video captures the excitement and energy of the trampoline park, with other people visible in the background..\n",
      "\n"
     ]
    },
    {
     "data": {
      "application/vnd.jupyter.widget-view+json": {
       "model_id": "bd60e97b7c1c47479b2b9952210e4710",
       "version_major": 2,
       "version_minor": 0
      },
      "text/plain": [
       "Batches:   0%|          | 0/1 [00:00<?, ?it/s]"
      ]
     },
     "metadata": {},
     "output_type": "display_data"
    },
    {
     "name": "stderr",
     "output_type": "stream",
     "text": [
      "INFO:root: Added 58___bed1133eca984767a67a1e8e68160a47.mp4 video file description to database\n",
      "\n",
      " ******\n",
      " 99%|██████████████████████████████████████████████████████████████████████████████▏| 99/100 [1:53:53<01:01, 61.79s/it]INFO:root:\n",
      " Processing file 27___eedf5982ac514735a209e9b349bce298.mp4 using Qwen 2.5 VL on Pytorch XPU..\n",
      "INFO:qwen_vl_utils.vision_process:decord:  video_path='SVW_subset_video_dataset\\\\hammerthrow\\\\27___eedf5982ac514735a209e9b349bce298.mp4', total_frames=311, video_fps=30.0, time=0.014s\n",
      "INFO:root: Generated description: A shirtless man stands in a throwing cage, preparing to throw a discus. He takes a few steps back and begins to spin, building momentum. As he spins, the discus is visible in his hand, held out in front of him. He continues to spin, gaining speed, until he releases the discus with a powerful throw. The discus flies through the air, leaving a trail of dust behind it..\n",
      "\n"
     ]
    },
    {
     "data": {
      "application/vnd.jupyter.widget-view+json": {
       "model_id": "66d67307a2c94167b213e8476161945f",
       "version_major": 2,
       "version_minor": 0
      },
      "text/plain": [
       "Batches:   0%|          | 0/1 [00:00<?, ?it/s]"
      ]
     },
     "metadata": {},
     "output_type": "display_data"
    },
    {
     "name": "stderr",
     "output_type": "stream",
     "text": [
      "INFO:root: Added 27___eedf5982ac514735a209e9b349bce298.mp4 video file description to database\n",
      "\n",
      " ******\n",
      "100%|██████████████████████████████████████████████████████████████████████████████| 100/100 [1:54:57<00:00, 68.97s/it]\n",
      "INFO:root: Processed 100 videos\n",
      "INFO:root: Database now has 100 total descriptions\n"
     ]
    }
   ],
   "source": [
    "generate_and_store_video_descriptions(selected_video_files, collection, existing_descriptions, vl_model, processor, embedding_model)    "
   ]
  },
  {
   "cell_type": "markdown",
   "id": "cb31cd1f-af0f-41bd-98b8-b11115f60699",
   "metadata": {},
   "source": [
    "## Query the database\n",
    "The query will be encoded, converted into embedding which will be used to query the ChromaDB collection to retrieve videos that are most relevant by searching for similar content based on the cosine similarity."
   ]
  },
  {
   "cell_type": "code",
   "execution_count": 11,
   "id": "926ce37e-2272-489b-be0f-719dc109f385",
   "metadata": {},
   "outputs": [],
   "source": [
    "def query_videos_descriptions(query, collection):\n",
    "    \"\"\"\n",
    "    Queries the ChromaDB collection to find the similar video relevant to the input query.\n",
    "\n",
    "    Args:\n",
    "        query (str): User query.\n",
    "        collection: The ChromaDB collection object.\n",
    "\n",
    "    Returns:\n",
    "        results (dict): Query results containing video descriptions and video file name.\n",
    "\n",
    "    Raises:\n",
    "        Exception: Raises an exception if there is any error while querying the database.\n",
    "    \"\"\"\n",
    "    try:\n",
    "        query_embedding = embedding_model.encode(query).tolist()\n",
    "        results = collection.query(\n",
    "            query_embeddings=[query_embedding],\n",
    "            n_results=1,\n",
    "            include=[\"documents\", \"metadatas\", \"distances\", \"embeddings\"]\n",
    "        )\n",
    "        logging.info(f\" Search results for: '{query}'\\n\")\n",
    "        for i, (doc, metadata, distance) in enumerate(zip(\n",
    "            results['documents'][0],\n",
    "            results['metadatas'][0],\n",
    "            results['distances'][0]\n",
    "        )):\n",
    "            similarity_score = 1 - distance\n",
    "            logging.info(f\" Video filename: {metadata['video_filename']} (Similarity score: {similarity_score:.3f})\\n\")\n",
    "            logging.info(f\" Distance: {distance:.3f}\\n\")\n",
    "            logging.info(f\" Video description: {doc}\\n\")\n",
    "        return results\n",
    "    except Exception as e:\n",
    "        logging.exception(f\" Error while querying video descriptions: {str(e)}\")"
   ]
  },
  {
   "cell_type": "code",
   "execution_count": 12,
   "id": "4215e3e8-7ad4-4690-bc4b-1b852ad217b7",
   "metadata": {},
   "outputs": [
    {
     "data": {
      "application/vnd.jupyter.widget-view+json": {
       "model_id": "9581d4278acb49779ccf68e843404d97",
       "version_major": 2,
       "version_minor": 0
      },
      "text/plain": [
       "Batches:   0%|          | 0/1 [00:00<?, ?it/s]"
      ]
     },
     "metadata": {},
     "output_type": "display_data"
    },
    {
     "name": "stderr",
     "output_type": "stream",
     "text": [
      "INFO:root: Search results for: 'girl practicing in a golf club'\n",
      "\n",
      "INFO:root: Video filename: 10___b918ec5abe94452795b4f0f65637bd84.mp4 (Similarity score: 0.720)\n",
      "\n",
      "INFO:root: Distance: 0.280\n",
      "\n",
      "INFO:root: Video description: The video shows a young girl practicing her golf swing on a grassy course. She is holding a golf club and appears to be hitting golf balls. The background features other people, likely fellow golfers or spectators, and the landscape includes mountains in the distance. The setting suggests a sunny day with clear skies.\n",
      "\n"
     ]
    }
   ],
   "source": [
    "query = \"girl practicing in a golf club\"\n",
    "results = query_videos_descriptions(query, collection)"
   ]
  },
  {
   "cell_type": "markdown",
   "id": "e356e619-9342-48d6-b680-5346f4bfbbe0",
   "metadata": {},
   "source": [
    "## Display the video\n",
    "Display the relevant video based on the results"
   ]
  },
  {
   "cell_type": "code",
   "execution_count": 13,
   "id": "c657bfcd-6fce-40ee-a9b4-bf3c4f0de3d8",
   "metadata": {},
   "outputs": [],
   "source": [
    "def display_video(results):\n",
    "    \"\"\"\n",
    "    Display the video based the query results.\n",
    "\n",
    "    Args:\n",
    "        results (dict): Query results containing video descriptions and video file name.\n",
    "\n",
    "    Raises:\n",
    "        Exception: Raises an exception if there is any error while displaying the video.\n",
    "    \"\"\"\n",
    "    try:\n",
    "        video = Video(results['ids'][0][0], width=600, height=400)\n",
    "        display(video)\n",
    "    except Exception as e:\n",
    "        logging.exception(f\"Error while displaying the video: {str(e)}\")"
   ]
  },
  {
   "cell_type": "code",
   "execution_count": 14,
   "id": "eaf0af90-0eb1-423b-8d0f-3f67c2cc877a",
   "metadata": {
    "scrolled": true
   },
   "outputs": [
    {
     "data": {
      "text/html": [
       "<video src=\"SVW_subset_video_dataset\\golf\\10___b918ec5abe94452795b4f0f65637bd84.mp4\" controls  width=\"600\"  height=\"400\">\n",
       "      Your browser does not support the <code>video</code> element.\n",
       "    </video>"
      ],
      "text/plain": [
       "<IPython.core.display.Video object>"
      ]
     },
     "metadata": {},
     "output_type": "display_data"
    }
   ],
   "source": [
    "display_video(results)"
   ]
  },
  {
   "cell_type": "markdown",
   "id": "c55db9d3-b2e7-4826-8c1b-a1acb288ec9d",
   "metadata": {
    "scrolled": true
   },
   "source": [
    "## Remove the database\n",
    "Remove the local database if it is not needed."
   ]
  },
  {
   "cell_type": "code",
   "execution_count": 19,
   "id": "c9a08316-779e-4c35-bb83-242f6a9e0a37",
   "metadata": {},
   "outputs": [],
   "source": [
    "def delete_database():\n",
    "    \"\"\"\n",
    "    Delete the database directory.\n",
    "\n",
    "    Raises:\n",
    "        Exception: Raises an exception if there is any error while deleting the database.\n",
    "    \"\"\"\n",
    "    database_folder = \"Video_descriptions_database\"\n",
    "    if os.path.exists(database_folder):\n",
    "        logging.info(\"You are about to delete the database. Once deleted, it will no longer be available, and you will need to regenerate and store the video descriptions again.\")\n",
    "        answer = input(f\"Do you want to remove the database '{database_folder}'? \\nType 'yes'/ 'no': \")\n",
    "        if answer == 'yes':\n",
    "            try:\n",
    "                shutil.rmtree(database_folder)\n",
    "                logging.info(\"Database deleted!\")\n",
    "            except Exception as e:\n",
    "                logging.exception(f\"Error while deleting the database: {str(e)}\")\n",
    "        else:\n",
    "            logging.info(\"Database not deleted\")\n",
    "    else:\n",
    "        logging.info(\"Database is not available\")"
   ]
  },
  {
   "cell_type": "code",
   "execution_count": 20,
   "id": "47d4486c-9165-4ebe-85be-7ed036634624",
   "metadata": {},
   "outputs": [
    {
     "name": "stderr",
     "output_type": "stream",
     "text": [
      "INFO:root:You are about to delete the database. Once deleted, it will no longer be available, and you will need to regenerate and store the video descriptions again.\n"
     ]
    },
    {
     "name": "stdin",
     "output_type": "stream",
     "text": [
      "Do you want to remove the database 'Video_descriptions_database'? \n",
      "Type 'yes'/ 'no':  no\n"
     ]
    },
    {
     "name": "stderr",
     "output_type": "stream",
     "text": [
      "INFO:root:Database not deleted\n"
     ]
    }
   ],
   "source": [
    "delete_database()"
   ]
  },
  {
   "cell_type": "markdown",
   "id": "fe8a1e8e-aefa-40fb-bc31-18320c6b21f5",
   "metadata": {},
   "source": [
    "## Citations"
   ]
  },
  {
   "cell_type": "markdown",
   "id": "fdcad7c1-3b91-4a07-be0b-770975fad53e",
   "metadata": {},
   "source": [
    "If you use SVW dataset, please refer to this paper in your publications:\n",
    "\n",
    "### Publications\n",
    "- [**Sports Videos in the Wild (SVW): A Video Dataset for Sports Analysis**](https://cvlab.cse.msu.edu/project-svw.html)\\\n",
    "[**Seyed Morteza Safdarnejad**](https://cvlab.cse.msu.edu/author/seyed-morteza-safdarnejad.html), [**Xiaoming Liu**](https://cvlab.cse.msu.edu/author/xiaoming-liu.html), [**Lalita Udpa**](https://cvlab.cse.msu.edu/author/lalita-udpa.html), [**Brooks Andrus**](https://cvlab.cse.msu.edu/author/brooks-andrus.html), [**John Wood**](https://cvlab.cse.msu.edu/author/john-wood.html), [**Dean Craven**](https://cvlab.cse.msu.edu/author/dean-craven.html)\\\n",
    "Proc. International Conference on Automatic Face and Gesture Recognition (FG 2015), Ljubljana, Slovenia, May. 2015 (Acceptance rate 84/221 = 38%)\\\n",
    "[**Bibtex**](https://cvlab.cse.msu.edu/project-svw.html#bibtex-sports-videos-in-the-wild-svw-a-video-dataset-for-sports-analysis) | [**PDF**](https://cvlab.cse.msu.edu/pdfs/Morteza_FG2015.pdf)"
   ]
  }
 ],
 "metadata": {
  "kernelspec": {
   "display_name": "Python 3 (ipykernel)",
   "language": "python",
   "name": "python3"
  },
  "language_info": {
   "codemirror_mode": {
    "name": "ipython",
    "version": 3
   },
   "file_extension": ".py",
   "mimetype": "text/x-python",
   "name": "python",
   "nbconvert_exporter": "python",
   "pygments_lexer": "ipython3",
   "version": "3.11.12"
  }
 },
 "nbformat": 4,
 "nbformat_minor": 5
}
